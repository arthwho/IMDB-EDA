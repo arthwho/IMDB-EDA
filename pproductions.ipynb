{
 "cells": [
  {
   "cell_type": "markdown",
   "id": "d4a68789",
   "metadata": {},
   "source": [
    "# Análise Exploratória (EDA)\n",
    "\n",
    "Variáveis\n",
    "\n",
    "- Series_Title – Nome do filme\n",
    "- Released_Year - Ano de lançamento\n",
    "- Certificate - Classificação etária\n",
    "- Runtime – Tempo de duração\n",
    "- Genre - Gênero\n",
    "- IMDB_Rating - Nota do IMDB\n",
    "- Overview - Overview do filme\n",
    "- Meta_score - Média ponderada de todas as críticas \n",
    "- Director – Diretor\n",
    "- Star1 - Ator/atriz #1\n",
    "- Star2 - Ator/atriz #2\n",
    "- Star3 - Ator/atriz #3\n",
    "- Star4 - Ator/atriz #4\n",
    "- No_of_Votes - Número de votos\n",
    "- Gross - Faturamento\n"
   ]
  },
  {
   "cell_type": "code",
   "execution_count": null,
   "id": "7a240e06",
   "metadata": {
    "vscode": {
     "languageId": "plaintext"
    }
   },
   "outputs": [],
   "source": [
    "import pandas as pd\n",
    "import numpy as np"
   ]
  },
  {
   "cell_type": "markdown",
   "id": "1802aed1",
   "metadata": {},
   "source": [
    "## Importando o dataset"
   ]
  },
  {
   "cell_type": "code",
   "execution_count": null,
   "id": "03a26ae0",
   "metadata": {
    "vscode": {
     "languageId": "plaintext"
    }
   },
   "outputs": [],
   "source": []
  }
 ],
 "metadata": {
  "language_info": {
   "name": "python"
  }
 },
 "nbformat": 4,
 "nbformat_minor": 5
}
