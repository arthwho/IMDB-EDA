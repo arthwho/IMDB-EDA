{
 "cells": [
  {
   "cell_type": "markdown",
   "id": "d4a68789",
   "metadata": {},
   "source": [
    "**Arthur Silva Ferreira Coelho**\n",
    "\n",
    "---\n",
    "\n",
    "# Introdução\n",
    "\n",
    "Variáveis\n",
    "\n",
    "- Series_Title – Nome do filme\n",
    "- Released_Year - Ano de lançamento\n",
    "- Certificate - Classificação etária\n",
    "- Runtime – Tempo de duração\n",
    "- Genre - Gênero\n",
    "- IMDB_Rating - Nota do IMDB\n",
    "- Overview - Overview do filme\n",
    "- Meta_score - Média ponderada de todas as críticas \n",
    "- Director – Diretor\n",
    "- Star1 - Ator/atriz #1\n",
    "- Star2 - Ator/atriz #2\n",
    "- Star3 - Ator/atriz #3\n",
    "- Star4 - Ator/atriz #4\n",
    "- No_of_Votes - Número de votos\n",
    "- Gross - Faturamento\n"
   ]
  },
  {
   "cell_type": "code",
   "execution_count": 122,
   "id": "7a240e06",
   "metadata": {},
   "outputs": [],
   "source": [
    "import pandas as pd\n",
    "import numpy as np\n",
    "import seaborn as sns\n",
    "import matplotlib.pyplot as plt"
   ]
  },
  {
   "cell_type": "markdown",
   "id": "1802aed1",
   "metadata": {},
   "source": [
    "## Importando o dataset"
   ]
  },
  {
   "cell_type": "code",
   "execution_count": 123,
   "id": "03a26ae0",
   "metadata": {},
   "outputs": [
    {
     "data": {
      "text/plain": [
       "(999, 16)"
      ]
     },
     "execution_count": 123,
     "metadata": {},
     "output_type": "execute_result"
    }
   ],
   "source": [
    "df = pd.read_csv('datasets/desafio_indicium_imdb.csv')\n",
    "df.shape"
   ]
  },
  {
   "cell_type": "code",
   "execution_count": 124,
   "id": "6ed36ff7",
   "metadata": {},
   "outputs": [
    {
     "data": {
      "text/html": [
       "<div>\n",
       "<style scoped>\n",
       "    .dataframe tbody tr th:only-of-type {\n",
       "        vertical-align: middle;\n",
       "    }\n",
       "\n",
       "    .dataframe tbody tr th {\n",
       "        vertical-align: top;\n",
       "    }\n",
       "\n",
       "    .dataframe thead th {\n",
       "        text-align: right;\n",
       "    }\n",
       "</style>\n",
       "<table border=\"1\" class=\"dataframe\">\n",
       "  <thead>\n",
       "    <tr style=\"text-align: right;\">\n",
       "      <th></th>\n",
       "      <th>Unnamed: 0</th>\n",
       "      <th>Series_Title</th>\n",
       "      <th>Released_Year</th>\n",
       "      <th>Certificate</th>\n",
       "      <th>Runtime</th>\n",
       "      <th>Genre</th>\n",
       "      <th>IMDB_Rating</th>\n",
       "      <th>Overview</th>\n",
       "      <th>Meta_score</th>\n",
       "      <th>Director</th>\n",
       "      <th>Star1</th>\n",
       "      <th>Star2</th>\n",
       "      <th>Star3</th>\n",
       "      <th>Star4</th>\n",
       "      <th>No_of_Votes</th>\n",
       "      <th>Gross</th>\n",
       "    </tr>\n",
       "  </thead>\n",
       "  <tbody>\n",
       "    <tr>\n",
       "      <th>0</th>\n",
       "      <td>1</td>\n",
       "      <td>The Godfather</td>\n",
       "      <td>1972</td>\n",
       "      <td>A</td>\n",
       "      <td>175 min</td>\n",
       "      <td>Crime, Drama</td>\n",
       "      <td>9.2</td>\n",
       "      <td>An organized crime dynasty's aging patriarch t...</td>\n",
       "      <td>100.0</td>\n",
       "      <td>Francis Ford Coppola</td>\n",
       "      <td>Marlon Brando</td>\n",
       "      <td>Al Pacino</td>\n",
       "      <td>James Caan</td>\n",
       "      <td>Diane Keaton</td>\n",
       "      <td>1620367</td>\n",
       "      <td>134,966,411</td>\n",
       "    </tr>\n",
       "    <tr>\n",
       "      <th>1</th>\n",
       "      <td>2</td>\n",
       "      <td>The Dark Knight</td>\n",
       "      <td>2008</td>\n",
       "      <td>UA</td>\n",
       "      <td>152 min</td>\n",
       "      <td>Action, Crime, Drama</td>\n",
       "      <td>9.0</td>\n",
       "      <td>When the menace known as the Joker wreaks havo...</td>\n",
       "      <td>84.0</td>\n",
       "      <td>Christopher Nolan</td>\n",
       "      <td>Christian Bale</td>\n",
       "      <td>Heath Ledger</td>\n",
       "      <td>Aaron Eckhart</td>\n",
       "      <td>Michael Caine</td>\n",
       "      <td>2303232</td>\n",
       "      <td>534,858,444</td>\n",
       "    </tr>\n",
       "    <tr>\n",
       "      <th>2</th>\n",
       "      <td>3</td>\n",
       "      <td>The Godfather: Part II</td>\n",
       "      <td>1974</td>\n",
       "      <td>A</td>\n",
       "      <td>202 min</td>\n",
       "      <td>Crime, Drama</td>\n",
       "      <td>9.0</td>\n",
       "      <td>The early life and career of Vito Corleone in ...</td>\n",
       "      <td>90.0</td>\n",
       "      <td>Francis Ford Coppola</td>\n",
       "      <td>Al Pacino</td>\n",
       "      <td>Robert De Niro</td>\n",
       "      <td>Robert Duvall</td>\n",
       "      <td>Diane Keaton</td>\n",
       "      <td>1129952</td>\n",
       "      <td>57,300,000</td>\n",
       "    </tr>\n",
       "    <tr>\n",
       "      <th>3</th>\n",
       "      <td>4</td>\n",
       "      <td>12 Angry Men</td>\n",
       "      <td>1957</td>\n",
       "      <td>U</td>\n",
       "      <td>96 min</td>\n",
       "      <td>Crime, Drama</td>\n",
       "      <td>9.0</td>\n",
       "      <td>A jury holdout attempts to prevent a miscarria...</td>\n",
       "      <td>96.0</td>\n",
       "      <td>Sidney Lumet</td>\n",
       "      <td>Henry Fonda</td>\n",
       "      <td>Lee J. Cobb</td>\n",
       "      <td>Martin Balsam</td>\n",
       "      <td>John Fiedler</td>\n",
       "      <td>689845</td>\n",
       "      <td>4,360,000</td>\n",
       "    </tr>\n",
       "    <tr>\n",
       "      <th>4</th>\n",
       "      <td>5</td>\n",
       "      <td>The Lord of the Rings: The Return of the King</td>\n",
       "      <td>2003</td>\n",
       "      <td>U</td>\n",
       "      <td>201 min</td>\n",
       "      <td>Action, Adventure, Drama</td>\n",
       "      <td>8.9</td>\n",
       "      <td>Gandalf and Aragorn lead the World of Men agai...</td>\n",
       "      <td>94.0</td>\n",
       "      <td>Peter Jackson</td>\n",
       "      <td>Elijah Wood</td>\n",
       "      <td>Viggo Mortensen</td>\n",
       "      <td>Ian McKellen</td>\n",
       "      <td>Orlando Bloom</td>\n",
       "      <td>1642758</td>\n",
       "      <td>377,845,905</td>\n",
       "    </tr>\n",
       "  </tbody>\n",
       "</table>\n",
       "</div>"
      ],
      "text/plain": [
       "   Unnamed: 0                                   Series_Title Released_Year  \\\n",
       "0           1                                  The Godfather          1972   \n",
       "1           2                                The Dark Knight          2008   \n",
       "2           3                         The Godfather: Part II          1974   \n",
       "3           4                                   12 Angry Men          1957   \n",
       "4           5  The Lord of the Rings: The Return of the King          2003   \n",
       "\n",
       "  Certificate  Runtime                     Genre  IMDB_Rating  \\\n",
       "0           A  175 min              Crime, Drama          9.2   \n",
       "1          UA  152 min      Action, Crime, Drama          9.0   \n",
       "2           A  202 min              Crime, Drama          9.0   \n",
       "3           U   96 min              Crime, Drama          9.0   \n",
       "4           U  201 min  Action, Adventure, Drama          8.9   \n",
       "\n",
       "                                            Overview  Meta_score  \\\n",
       "0  An organized crime dynasty's aging patriarch t...       100.0   \n",
       "1  When the menace known as the Joker wreaks havo...        84.0   \n",
       "2  The early life and career of Vito Corleone in ...        90.0   \n",
       "3  A jury holdout attempts to prevent a miscarria...        96.0   \n",
       "4  Gandalf and Aragorn lead the World of Men agai...        94.0   \n",
       "\n",
       "               Director           Star1            Star2          Star3  \\\n",
       "0  Francis Ford Coppola   Marlon Brando        Al Pacino     James Caan   \n",
       "1     Christopher Nolan  Christian Bale     Heath Ledger  Aaron Eckhart   \n",
       "2  Francis Ford Coppola       Al Pacino   Robert De Niro  Robert Duvall   \n",
       "3          Sidney Lumet     Henry Fonda      Lee J. Cobb  Martin Balsam   \n",
       "4         Peter Jackson     Elijah Wood  Viggo Mortensen   Ian McKellen   \n",
       "\n",
       "           Star4  No_of_Votes        Gross  \n",
       "0   Diane Keaton      1620367  134,966,411  \n",
       "1  Michael Caine      2303232  534,858,444  \n",
       "2   Diane Keaton      1129952   57,300,000  \n",
       "3   John Fiedler       689845    4,360,000  \n",
       "4  Orlando Bloom      1642758  377,845,905  "
      ]
     },
     "execution_count": 124,
     "metadata": {},
     "output_type": "execute_result"
    }
   ],
   "source": [
    "df.head(5)"
   ]
  },
  {
   "cell_type": "markdown",
   "id": "9126122a",
   "metadata": {},
   "source": [
    "Como o dataset já é bem pequeno, não há necessidade de fazer um sample."
   ]
  },
  {
   "cell_type": "markdown",
   "id": "7c2289fa",
   "metadata": {},
   "source": [
    "## Limpando o dataset"
   ]
  },
  {
   "cell_type": "code",
   "execution_count": 125,
   "id": "3f330184",
   "metadata": {},
   "outputs": [
    {
     "data": {
      "text/plain": [
       "(Unnamed: 0         int64\n",
       " Series_Title      object\n",
       " Released_Year     object\n",
       " Certificate       object\n",
       " Runtime           object\n",
       " Genre             object\n",
       " IMDB_Rating      float64\n",
       " Overview          object\n",
       " Meta_score       float64\n",
       " Director          object\n",
       " Star1             object\n",
       " Star2             object\n",
       " Star3             object\n",
       " Star4             object\n",
       " No_of_Votes        int64\n",
       " Gross             object\n",
       " dtype: object,\n",
       " Index(['Unnamed: 0', 'Series_Title', 'Released_Year', 'Certificate', 'Runtime',\n",
       "        'Genre', 'IMDB_Rating', 'Overview', 'Meta_score', 'Director', 'Star1',\n",
       "        'Star2', 'Star3', 'Star4', 'No_of_Votes', 'Gross'],\n",
       "       dtype='object'),\n",
       " array([dtype('int64'), dtype('O'), dtype('float64')], dtype=object))"
      ]
     },
     "execution_count": 125,
     "metadata": {},
     "output_type": "execute_result"
    }
   ],
   "source": [
    "df.dtypes, df.columns, df.dtypes.unique()"
   ]
  },
  {
   "cell_type": "markdown",
   "id": "8389eb75",
   "metadata": {},
   "source": [
    "Released_year, Runtime e Gross são variáveis numéricas, mas estão como objetos."
   ]
  },
  {
   "cell_type": "code",
   "execution_count": 126,
   "id": "229baeaf",
   "metadata": {},
   "outputs": [
    {
     "data": {
      "text/plain": [
       "array(['1972', '2008', '1974', '1957', '2003', '1994', '1993', '2010',\n",
       "       '1999', '2001', '1966', '2002', '1990', '1980', '1975', '2020',\n",
       "       '2019', '2014', '1998', '1997', '1995', '1991', '1977', '1962',\n",
       "       '1954', '1946', '2011', '2006', '2000', '1988', '1985', '1968',\n",
       "       '1960', '1942', '1936', '1931', '2018', '2017', '2016', '2012',\n",
       "       '2009', '2007', '1984', '1981', '1979', '1971', '1963', '1964',\n",
       "       '1950', '1940', '2013', '2005', '2004', '1992', '1987', '1986',\n",
       "       '1983', '1976', '1973', '1965', '1959', '1958', '1952', '1948',\n",
       "       '1944', '1941', '1927', '1921', '2015', '1996', '1989', '1978',\n",
       "       '1961', '1955', '1953', '1925', '1924', '1982', '1967', '1951',\n",
       "       '1949', '1939', '1937', '1934', '1928', '1926', '1920', '1970',\n",
       "       '1969', '1956', '1947', '1945', '1930', '1938', '1935', '1933',\n",
       "       '1932', '1922', '1943', 'PG'], dtype=object)"
      ]
     },
     "execution_count": 126,
     "metadata": {},
     "output_type": "execute_result"
    }
   ],
   "source": [
    "df[\"Released_Year\"].isnull().sum(),\n",
    "df[\"Released_Year\"].unique()"
   ]
  },
  {
   "cell_type": "markdown",
   "id": "ce5811da",
   "metadata": {},
   "source": [
    "Tem um ano \"PG\". provavelmente foi erro de digitação. não posso supor de que ano o filme é, por isso, vou remover esse dado da tabela."
   ]
  },
  {
   "cell_type": "code",
   "execution_count": 127,
   "id": "39b4d6de",
   "metadata": {},
   "outputs": [],
   "source": [
    "problematic_values = ['PG']\n",
    "df = df[df['Released_Year'] != 'PG']"
   ]
  },
  {
   "cell_type": "code",
   "execution_count": 128,
   "id": "79b83b85",
   "metadata": {},
   "outputs": [
    {
     "data": {
      "text/plain": [
       "Unnamed: 0         int64\n",
       "Series_Title      object\n",
       "Released_Year      int64\n",
       "Certificate       object\n",
       "Runtime            int64\n",
       "Genre             object\n",
       "IMDB_Rating      float64\n",
       "Overview          object\n",
       "Meta_score       float64\n",
       "Director          object\n",
       "Star1             object\n",
       "Star2             object\n",
       "Star3             object\n",
       "Star4             object\n",
       "No_of_Votes        int64\n",
       "Gross            float64\n",
       "dtype: object"
      ]
     },
     "execution_count": 128,
     "metadata": {},
     "output_type": "execute_result"
    }
   ],
   "source": [
    "df['Released_Year'] = df['Released_Year'].astype(int)\n",
    "df['Runtime'] = df['Runtime'].str.replace(' min', '').astype(int)\n",
    "df['Gross'] = df['Gross'].str.replace('$', '').str.replace(',', '').astype(float)\n",
    "df.dtypes"
   ]
  },
  {
   "cell_type": "code",
   "execution_count": 129,
   "id": "a38ab6b1",
   "metadata": {},
   "outputs": [],
   "source": [
    "pd.set_option('display.float_format', lambda x: f\"{x:,.0f}\" if pd.notna(x) else \"NaN\")"
   ]
  },
  {
   "cell_type": "markdown",
   "id": "480b46b9",
   "metadata": {},
   "source": [
    "Há uma coluna \"Unnamed' que parece ser o index das linhas"
   ]
  },
  {
   "cell_type": "code",
   "execution_count": 130,
   "id": "1ea278ba",
   "metadata": {},
   "outputs": [],
   "source": [
    "df = df.drop('Unnamed: 0', axis=1)"
   ]
  },
  {
   "cell_type": "code",
   "execution_count": 131,
   "id": "9b01f212",
   "metadata": {},
   "outputs": [
    {
     "data": {
      "text/html": [
       "<div>\n",
       "<style scoped>\n",
       "    .dataframe tbody tr th:only-of-type {\n",
       "        vertical-align: middle;\n",
       "    }\n",
       "\n",
       "    .dataframe tbody tr th {\n",
       "        vertical-align: top;\n",
       "    }\n",
       "\n",
       "    .dataframe thead th {\n",
       "        text-align: right;\n",
       "    }\n",
       "</style>\n",
       "<table border=\"1\" class=\"dataframe\">\n",
       "  <thead>\n",
       "    <tr style=\"text-align: right;\">\n",
       "      <th></th>\n",
       "      <th>Series_Title</th>\n",
       "      <th>Released_Year</th>\n",
       "      <th>Certificate</th>\n",
       "      <th>Runtime</th>\n",
       "      <th>Genre</th>\n",
       "      <th>IMDB_Rating</th>\n",
       "      <th>Overview</th>\n",
       "      <th>Meta_score</th>\n",
       "      <th>Director</th>\n",
       "      <th>Star1</th>\n",
       "      <th>Star2</th>\n",
       "      <th>Star3</th>\n",
       "      <th>Star4</th>\n",
       "      <th>No_of_Votes</th>\n",
       "      <th>Gross</th>\n",
       "    </tr>\n",
       "  </thead>\n",
       "  <tbody>\n",
       "    <tr>\n",
       "      <th>0</th>\n",
       "      <td>The Godfather</td>\n",
       "      <td>1972</td>\n",
       "      <td>A</td>\n",
       "      <td>175</td>\n",
       "      <td>Crime, Drama</td>\n",
       "      <td>9</td>\n",
       "      <td>An organized crime dynasty's aging patriarch t...</td>\n",
       "      <td>100</td>\n",
       "      <td>Francis Ford Coppola</td>\n",
       "      <td>Marlon Brando</td>\n",
       "      <td>Al Pacino</td>\n",
       "      <td>James Caan</td>\n",
       "      <td>Diane Keaton</td>\n",
       "      <td>1620367</td>\n",
       "      <td>134,966,411</td>\n",
       "    </tr>\n",
       "    <tr>\n",
       "      <th>1</th>\n",
       "      <td>The Dark Knight</td>\n",
       "      <td>2008</td>\n",
       "      <td>UA</td>\n",
       "      <td>152</td>\n",
       "      <td>Action, Crime, Drama</td>\n",
       "      <td>9</td>\n",
       "      <td>When the menace known as the Joker wreaks havo...</td>\n",
       "      <td>84</td>\n",
       "      <td>Christopher Nolan</td>\n",
       "      <td>Christian Bale</td>\n",
       "      <td>Heath Ledger</td>\n",
       "      <td>Aaron Eckhart</td>\n",
       "      <td>Michael Caine</td>\n",
       "      <td>2303232</td>\n",
       "      <td>534,858,444</td>\n",
       "    </tr>\n",
       "    <tr>\n",
       "      <th>2</th>\n",
       "      <td>The Godfather: Part II</td>\n",
       "      <td>1974</td>\n",
       "      <td>A</td>\n",
       "      <td>202</td>\n",
       "      <td>Crime, Drama</td>\n",
       "      <td>9</td>\n",
       "      <td>The early life and career of Vito Corleone in ...</td>\n",
       "      <td>90</td>\n",
       "      <td>Francis Ford Coppola</td>\n",
       "      <td>Al Pacino</td>\n",
       "      <td>Robert De Niro</td>\n",
       "      <td>Robert Duvall</td>\n",
       "      <td>Diane Keaton</td>\n",
       "      <td>1129952</td>\n",
       "      <td>57,300,000</td>\n",
       "    </tr>\n",
       "    <tr>\n",
       "      <th>3</th>\n",
       "      <td>12 Angry Men</td>\n",
       "      <td>1957</td>\n",
       "      <td>U</td>\n",
       "      <td>96</td>\n",
       "      <td>Crime, Drama</td>\n",
       "      <td>9</td>\n",
       "      <td>A jury holdout attempts to prevent a miscarria...</td>\n",
       "      <td>96</td>\n",
       "      <td>Sidney Lumet</td>\n",
       "      <td>Henry Fonda</td>\n",
       "      <td>Lee J. Cobb</td>\n",
       "      <td>Martin Balsam</td>\n",
       "      <td>John Fiedler</td>\n",
       "      <td>689845</td>\n",
       "      <td>4,360,000</td>\n",
       "    </tr>\n",
       "    <tr>\n",
       "      <th>4</th>\n",
       "      <td>The Lord of the Rings: The Return of the King</td>\n",
       "      <td>2003</td>\n",
       "      <td>U</td>\n",
       "      <td>201</td>\n",
       "      <td>Action, Adventure, Drama</td>\n",
       "      <td>9</td>\n",
       "      <td>Gandalf and Aragorn lead the World of Men agai...</td>\n",
       "      <td>94</td>\n",
       "      <td>Peter Jackson</td>\n",
       "      <td>Elijah Wood</td>\n",
       "      <td>Viggo Mortensen</td>\n",
       "      <td>Ian McKellen</td>\n",
       "      <td>Orlando Bloom</td>\n",
       "      <td>1642758</td>\n",
       "      <td>377,845,905</td>\n",
       "    </tr>\n",
       "  </tbody>\n",
       "</table>\n",
       "</div>"
      ],
      "text/plain": [
       "                                    Series_Title  Released_Year Certificate  \\\n",
       "0                                  The Godfather           1972           A   \n",
       "1                                The Dark Knight           2008          UA   \n",
       "2                         The Godfather: Part II           1974           A   \n",
       "3                                   12 Angry Men           1957           U   \n",
       "4  The Lord of the Rings: The Return of the King           2003           U   \n",
       "\n",
       "   Runtime                     Genre  IMDB_Rating  \\\n",
       "0      175              Crime, Drama            9   \n",
       "1      152      Action, Crime, Drama            9   \n",
       "2      202              Crime, Drama            9   \n",
       "3       96              Crime, Drama            9   \n",
       "4      201  Action, Adventure, Drama            9   \n",
       "\n",
       "                                            Overview  Meta_score  \\\n",
       "0  An organized crime dynasty's aging patriarch t...         100   \n",
       "1  When the menace known as the Joker wreaks havo...          84   \n",
       "2  The early life and career of Vito Corleone in ...          90   \n",
       "3  A jury holdout attempts to prevent a miscarria...          96   \n",
       "4  Gandalf and Aragorn lead the World of Men agai...          94   \n",
       "\n",
       "               Director           Star1            Star2          Star3  \\\n",
       "0  Francis Ford Coppola   Marlon Brando        Al Pacino     James Caan   \n",
       "1     Christopher Nolan  Christian Bale     Heath Ledger  Aaron Eckhart   \n",
       "2  Francis Ford Coppola       Al Pacino   Robert De Niro  Robert Duvall   \n",
       "3          Sidney Lumet     Henry Fonda      Lee J. Cobb  Martin Balsam   \n",
       "4         Peter Jackson     Elijah Wood  Viggo Mortensen   Ian McKellen   \n",
       "\n",
       "           Star4  No_of_Votes       Gross  \n",
       "0   Diane Keaton      1620367 134,966,411  \n",
       "1  Michael Caine      2303232 534,858,444  \n",
       "2   Diane Keaton      1129952  57,300,000  \n",
       "3   John Fiedler       689845   4,360,000  \n",
       "4  Orlando Bloom      1642758 377,845,905  "
      ]
     },
     "execution_count": 131,
     "metadata": {},
     "output_type": "execute_result"
    }
   ],
   "source": [
    "df.head(5)"
   ]
  },
  {
   "cell_type": "code",
   "execution_count": 132,
   "id": "af290d8b",
   "metadata": {},
   "outputs": [
    {
     "data": {
      "text/plain": [
       "(998, 15)"
      ]
     },
     "execution_count": 132,
     "metadata": {},
     "output_type": "execute_result"
    }
   ],
   "source": [
    "df.shape"
   ]
  },
  {
   "cell_type": "markdown",
   "id": "43bf615c",
   "metadata": {},
   "source": [
    "Ótimo, de (999,16) foi para (998,15), o que significa que removemos com sucesso apenas aquela linha com 'PG' e agora temos dados numéricos com dtypes apropriados assim como a remoção da coluna Unnamed, que nçao tinha valor para nossa análise."
   ]
  },
  {
   "cell_type": "markdown",
   "id": "a72019cd",
   "metadata": {},
   "source": [
    "## Valores faltantes"
   ]
  },
  {
   "cell_type": "code",
   "execution_count": 133,
   "id": "2186f2b7",
   "metadata": {},
   "outputs": [
    {
     "data": {
      "text/plain": [
       "Series_Title       0\n",
       "Released_Year      0\n",
       "Certificate      101\n",
       "Runtime            0\n",
       "Genre              0\n",
       "IMDB_Rating        0\n",
       "Overview           0\n",
       "Meta_score       157\n",
       "Director           0\n",
       "Star1              0\n",
       "Star2              0\n",
       "Star3              0\n",
       "Star4              0\n",
       "No_of_Votes        0\n",
       "Gross            169\n",
       "dtype: int64"
      ]
     },
     "execution_count": 133,
     "metadata": {},
     "output_type": "execute_result"
    }
   ],
   "source": [
    "df.isnull().sum()"
   ]
  },
  {
   "cell_type": "code",
   "execution_count": 134,
   "id": "8c27f0d1",
   "metadata": {},
   "outputs": [
    {
     "name": "stdout",
     "output_type": "stream",
     "text": [
      "             Valores faltantes  Porcentagem\n",
      "Certificate                101           10\n",
      "Meta_score                 157           16\n",
      "Gross                      169           17\n"
     ]
    }
   ],
   "source": [
    "missing_data = df.isnull().sum()\n",
    "missing_percent = (missing_data / len(df)) * 100\n",
    "missing_df = pd.DataFrame({\n",
    "            'Valores faltantes': missing_data,\n",
    "            'Porcentagem': missing_percent})\n",
    "print(missing_df[missing_df['Valores faltantes'] > 0])"
   ]
  },
  {
   "cell_type": "markdown",
   "id": "28af031f",
   "metadata": {},
   "source": [
    "A porcentagem de valores faltantes em 'meta_score' e 'certificate' é bem baixa. Quanto a 'gross', não posso presumir ou supor o faturamento de cada filme com essa informação faltante, por isso, vou dropar as linhas que possuem valores faltantes em qualqauer coluna."
   ]
  },
  {
   "cell_type": "code",
   "execution_count": 135,
   "id": "2e3c15b5",
   "metadata": {},
   "outputs": [],
   "source": [
    "df = df.dropna()"
   ]
  },
  {
   "cell_type": "code",
   "execution_count": 136,
   "id": "56e33382",
   "metadata": {},
   "outputs": [
    {
     "data": {
      "text/plain": [
       "Series_Title     0\n",
       "Released_Year    0\n",
       "Certificate      0\n",
       "Runtime          0\n",
       "Genre            0\n",
       "IMDB_Rating      0\n",
       "Overview         0\n",
       "Meta_score       0\n",
       "Director         0\n",
       "Star1            0\n",
       "Star2            0\n",
       "Star3            0\n",
       "Star4            0\n",
       "No_of_Votes      0\n",
       "Gross            0\n",
       "dtype: int64"
      ]
     },
     "execution_count": 136,
     "metadata": {},
     "output_type": "execute_result"
    }
   ],
   "source": [
    "df.isnull().sum()"
   ]
  },
  {
   "cell_type": "markdown",
   "id": "8c420a2e",
   "metadata": {},
   "source": [
    "Remover ou preencher (tratar) dados nulos é importante porque existem modelos que não permitem valores faltantes na hora do treinamento."
   ]
  },
  {
   "cell_type": "markdown",
   "id": "a6e3dbfe",
   "metadata": {},
   "source": [
    "## Checando outliers"
   ]
  },
  {
   "cell_type": "code",
   "execution_count": 137,
   "id": "e4fbc195",
   "metadata": {},
   "outputs": [
    {
     "data": {
      "image/png": "[encoded data removed]",
      "text/plain": [
       "<Figure size 1800x600 with 3 Axes>"
      ]
     },
     "metadata": {},
     "output_type": "display_data"
    }
   ],
   "source": [
    "fig, axes = plt.subplots(1, 3, figsize=(18, 6))\n",
    "fig.suptitle('Outliers', fontsize=16, fontweight='bold')\n",
    "\n",
    "# Runtime\n",
    "sns.boxplot(y=df['Runtime'], ax=axes[0], color='skyblue')\n",
    "axes[0].set_title('Duração')\n",
    "axes[0].set_ylabel('Duração')\n",
    "axes[0].set_yscale('log')\n",
    "\n",
    "\n",
    "# No_of_Votes\n",
    "sns.boxplot(y=df['No_of_Votes'], ax=axes[1], color='lightgreen')\n",
    "axes[1].set_title('Número de Votos')\n",
    "axes[1].set_ylabel('Número de Votos')\n",
    "\n",
    "# Gross\n",
    "sns.boxplot(y=df['Gross'], ax=axes[2], color='salmon')\n",
    "axes[2].set_title('Faturamento')\n",
    "axes[2].set_ylabel('Faturamento')\n",
    "axes[2].set_yscale('log')\n",
    "\n",
    "plt.tight_layout()\n",
    "plt.show()"
   ]
  },
  {
   "cell_type": "markdown",
   "id": "2b343e1b",
   "metadata": {},
   "source": [
    "Existem muitos outliers nos numeros de votos. Isso me faz questionar se devo removê-los ou se realmente pode acontecer de um filme ter tantos votos assim... Poderia remover os outliers, mas o resultado final ficará muito adulterado ou enviesado (a diferença é muito grande), por isso, vou deixar os outliers e acreditar que os filmes que receberam essa grande quantidade de votos é porque realmente mereceram :)"
   ]
  },
  {
   "cell_type": "code",
   "execution_count": 138,
   "id": "9c2cda05",
   "metadata": {},
   "outputs": [],
   "source": [
    "# limite_votos = 1000000  # 1.0e6\n",
    "\n",
    "# df = df[df['No_of_Votes'] <= limite_votos]"
   ]
  },
  {
   "cell_type": "code",
   "execution_count": 139,
   "id": "da3d75f0",
   "metadata": {},
   "outputs": [],
   "source": [
    "# plt.figure(figsize=(8, 6))\n",
    "# sns.boxplot(y=df['No_of_Votes'], color='lightgreen')\n",
    "# plt.title('Número de Votos')\n",
    "# plt.ylabel('Número de Votos')\n",
    "# plt.show()"
   ]
  },
  {
   "cell_type": "code",
   "execution_count": 140,
   "id": "73adfe0b",
   "metadata": {},
   "outputs": [],
   "source": [
    "# limite_votos = 400000\n",
    "\n",
    "# df = df[df['No_of_Votes'] <= limite_votos]"
   ]
  },
  {
   "cell_type": "code",
   "execution_count": 141,
   "id": "57862742",
   "metadata": {},
   "outputs": [],
   "source": [
    "# fig, axes = plt.subplots(1, 3, figsize=(18, 6))\n",
    "# fig.suptitle('Outliers', fontsize=16, fontweight='bold')\n",
    "\n",
    "# # Runtime\n",
    "# sns.boxplot(y=df['Runtime'], ax=axes[0], color='skyblue')\n",
    "# axes[0].set_title('Duração')\n",
    "# axes[0].set_ylabel('Duração')\n",
    "# axes[0].set_yscale('log')\n",
    "\n",
    "\n",
    "# # No_of_Votes\n",
    "# sns.boxplot(y=df['No_of_Votes'], ax=axes[1], color='lightgreen')\n",
    "# axes[1].set_title('Número de Votos')\n",
    "# axes[1].set_ylabel('Número de Votos')\n",
    "\n",
    "# # Gross\n",
    "# sns.boxplot(y=df['Gross'], ax=axes[2], color='salmon')\n",
    "# axes[2].set_title('Faturamento')\n",
    "# axes[2].set_ylabel('Faturamento')\n",
    "# axes[2].set_yscale('log')\n",
    "\n",
    "# plt.tight_layout()\n",
    "# plt.show()"
   ]
  },
  {
   "cell_type": "markdown",
   "id": "1ff44555",
   "metadata": {},
   "source": [
    "---\n",
    "\n",
    "# Análise Exploratória"
   ]
  },
  {
   "cell_type": "code",
   "execution_count": 142,
   "id": "8b247af0",
   "metadata": {},
   "outputs": [
    {
     "data": {
      "text/html": [
       "<div>\n",
       "<style scoped>\n",
       "    .dataframe tbody tr th:only-of-type {\n",
       "        vertical-align: middle;\n",
       "    }\n",
       "\n",
       "    .dataframe tbody tr th {\n",
       "        vertical-align: top;\n",
       "    }\n",
       "\n",
       "    .dataframe thead th {\n",
       "        text-align: right;\n",
       "    }\n",
       "</style>\n",
       "<table border=\"1\" class=\"dataframe\">\n",
       "  <thead>\n",
       "    <tr style=\"text-align: right;\">\n",
       "      <th></th>\n",
       "      <th>Released_Year</th>\n",
       "      <th>Runtime</th>\n",
       "      <th>IMDB_Rating</th>\n",
       "      <th>Meta_score</th>\n",
       "      <th>No_of_Votes</th>\n",
       "      <th>Gross</th>\n",
       "    </tr>\n",
       "  </thead>\n",
       "  <tbody>\n",
       "    <tr>\n",
       "      <th>count</th>\n",
       "      <td>712</td>\n",
       "      <td>712</td>\n",
       "      <td>712</td>\n",
       "      <td>712</td>\n",
       "      <td>712</td>\n",
       "      <td>712</td>\n",
       "    </tr>\n",
       "    <tr>\n",
       "      <th>mean</th>\n",
       "      <td>1,996</td>\n",
       "      <td>124</td>\n",
       "      <td>8</td>\n",
       "      <td>77</td>\n",
       "      <td>353,466</td>\n",
       "      <td>78,450,169</td>\n",
       "    </tr>\n",
       "    <tr>\n",
       "      <th>std</th>\n",
       "      <td>19</td>\n",
       "      <td>26</td>\n",
       "      <td>0</td>\n",
       "      <td>12</td>\n",
       "      <td>346,450</td>\n",
       "      <td>115,068,637</td>\n",
       "    </tr>\n",
       "    <tr>\n",
       "      <th>min</th>\n",
       "      <td>1,930</td>\n",
       "      <td>72</td>\n",
       "      <td>8</td>\n",
       "      <td>28</td>\n",
       "      <td>25,229</td>\n",
       "      <td>1,305</td>\n",
       "    </tr>\n",
       "    <tr>\n",
       "      <th>25%</th>\n",
       "      <td>1,987</td>\n",
       "      <td>104</td>\n",
       "      <td>8</td>\n",
       "      <td>70</td>\n",
       "      <td>95,665</td>\n",
       "      <td>6,143,199</td>\n",
       "    </tr>\n",
       "    <tr>\n",
       "      <th>50%</th>\n",
       "      <td>2,001</td>\n",
       "      <td>120</td>\n",
       "      <td>8</td>\n",
       "      <td>78</td>\n",
       "      <td>235,982</td>\n",
       "      <td>34,850,146</td>\n",
       "    </tr>\n",
       "    <tr>\n",
       "      <th>75%</th>\n",
       "      <td>2,010</td>\n",
       "      <td>136</td>\n",
       "      <td>8</td>\n",
       "      <td>86</td>\n",
       "      <td>506,543</td>\n",
       "      <td>102,360,615</td>\n",
       "    </tr>\n",
       "    <tr>\n",
       "      <th>max</th>\n",
       "      <td>2,019</td>\n",
       "      <td>238</td>\n",
       "      <td>9</td>\n",
       "      <td>100</td>\n",
       "      <td>2,303,232</td>\n",
       "      <td>936,662,225</td>\n",
       "    </tr>\n",
       "  </tbody>\n",
       "</table>\n",
       "</div>"
      ],
      "text/plain": [
       "       Released_Year  Runtime  IMDB_Rating  Meta_score  No_of_Votes  \\\n",
       "count            712      712          712         712          712   \n",
       "mean           1,996      124            8          77      353,466   \n",
       "std               19       26            0          12      346,450   \n",
       "min            1,930       72            8          28       25,229   \n",
       "25%            1,987      104            8          70       95,665   \n",
       "50%            2,001      120            8          78      235,982   \n",
       "75%            2,010      136            8          86      506,543   \n",
       "max            2,019      238            9         100    2,303,232   \n",
       "\n",
       "            Gross  \n",
       "count         712  \n",
       "mean   78,450,169  \n",
       "std   115,068,637  \n",
       "min         1,305  \n",
       "25%     6,143,199  \n",
       "50%    34,850,146  \n",
       "75%   102,360,615  \n",
       "max   936,662,225  "
      ]
     },
     "execution_count": 142,
     "metadata": {},
     "output_type": "execute_result"
    }
   ],
   "source": [
    "df.describe()"
   ]
  },
  {
   "cell_type": "markdown",
   "id": "f63083d3",
   "metadata": {},
   "source": [
    "## Analisando a distribuição dos dados"
   ]
  },
  {
   "cell_type": "code",
   "execution_count": 143,
   "id": "141777cb",
   "metadata": {},
   "outputs": [
    {
     "data": {
      "image/png": "[encoded data removed]",
      "text/plain": [
       "<Figure size 1800x1200 with 6 Axes>"
      ]
     },
     "metadata": {},
     "output_type": "display_data"
    }
   ],
   "source": [
    "fig, axes = plt.subplots(2, 3, figsize=(18, 12))\n",
    "fig.suptitle('Distribuição', fontsize=16, fontweight='bold')\n",
    "        \n",
    "# IMDB Rating distribution\n",
    "axes[0, 0].hist(df['IMDB_Rating'].dropna(), bins=30, alpha=0.7, color='skyblue')\n",
    "axes[0, 0].set_title('Nota do IMDB')\n",
    "axes[0, 0].set_xlabel('Nota do IMDB')\n",
    "axes[0, 0].set_ylabel('Frequência')\n",
    "\n",
    "# Meta Score distribution\n",
    "axes[0, 1].hist(df['Meta_score'].dropna(), bins=30, alpha=0.7, color='lightgreen')\n",
    "axes[0, 1].set_title('Média ponderada de todas as críticas ')\n",
    "axes[0, 1].set_xlabel('Meta Score')\n",
    "axes[0, 1].set_ylabel('Frequência')\n",
    "\n",
    "# Runtime distribution\n",
    "axes[0, 2].hist(df['Runtime'].dropna(), bins=30, alpha=0.7, color='salmon')\n",
    "axes[0, 2].set_title('Tempo de duração')\n",
    "axes[0, 2].set_xlabel('Duração em minutos')\n",
    "axes[0, 2].set_ylabel('Frequência')\n",
    "        \n",
    "# Released Year distribution\n",
    "axes[1, 0].hist(df['Released_Year'].dropna(), bins=30, alpha=0.7, color='gold')\n",
    "axes[1, 0].set_title('Ano de lançamento')\n",
    "axes[1, 0].set_xlabel('Ano')\n",
    "axes[1, 0].set_ylabel('Frequência')\n",
    "        \n",
    "# Number of Votes distribution (log scale)\n",
    "axes[1, 1].hist(np.log10(df['No_of_Votes'].dropna()), bins=30, alpha=0.7, color='purple')\n",
    "axes[1, 1].set_title('Número de votos')\n",
    "axes[1, 1].set_xlabel('Número de votos na escala de Log10')\n",
    "axes[1, 1].set_ylabel('Frequência')\n",
    "        \n",
    "# Gross distribution (log scale)\n",
    "axes[1, 2].hist(np.log10(df['Gross'].dropna()), bins=30, alpha=0.7, color='orange')\n",
    "axes[1, 2].set_title('Faturamento')\n",
    "axes[1, 2].set_xlabel('Faturamento na escala de Log10')\n",
    "axes[1, 2].set_ylabel('Frequência')\n",
    "        \n",
    "plt.tight_layout()\n",
    "plt.show()"
   ]
  },
  {
   "cell_type": "markdown",
   "id": "ff6f5e58",
   "metadata": {},
   "source": [
    "## Correlações"
   ]
  },
  {
   "cell_type": "markdown",
   "id": "c4e5850f",
   "metadata": {},
   "source": [
    "Vou agora analisar a correlação entre as variáveis numéricas"
   ]
  },
  {
   "cell_type": "code",
   "execution_count": 144,
   "id": "173debae",
   "metadata": {},
   "outputs": [
    {
     "name": "stdout",
     "output_type": "stream",
     "text": [
      "As variáveis numéricas são: \n",
      "\n",
      " Index(['Released_Year', 'Runtime', 'IMDB_Rating', 'Meta_score', 'No_of_Votes',\n",
      "       'Gross'],\n",
      "      dtype='object')\n"
     ]
    }
   ],
   "source": [
    "numerical_columns = df.select_dtypes(include=['int64', 'float64']).columns\n",
    "print(\"As variáveis numéricas são: \\n\\n\", numerical_columns)"
   ]
  },
  {
   "cell_type": "code",
   "execution_count": 145,
   "id": "31c53c07",
   "metadata": {},
   "outputs": [
    {
     "data": {
      "text/plain": [
       "<Axes: >"
      ]
     },
     "execution_count": 145,
     "metadata": {},
     "output_type": "execute_result"
    },
    {
     "data": {
      "image/png": "[encoded data removed]",
      "text/plain": [
       "<Figure size 640x480 with 2 Axes>"
      ]
     },
     "metadata": {},
     "output_type": "display_data"
    }
   ],
   "source": [
    "corr = df.select_dtypes(include=['int64', 'float64']).corr(method='spearman', min_periods=1)\n",
    "sns.heatmap(corr, annot=True, cmap='viridis', fmt='.2f')"
   ]
  },
  {
   "cell_type": "code",
   "execution_count": 146,
   "id": "f1cbcaa9",
   "metadata": {},
   "outputs": [
    {
     "name": "stdout",
     "output_type": "stream",
     "text": [
      "\n",
      "Variáveis com maior correlação (|r| > 0.5):\n",
      "No_of_Votes vs Gross: 0.658\n"
     ]
    }
   ],
   "source": [
    "print(\"\\nVariáveis com maior correlação (|r| > 0.5):\")\n",
    "for i in range(len(corr.columns)):\n",
    "    for j in range(i+1, len(corr.columns)):\n",
    "        if abs(corr.iloc[i, j]) > 0.5:\n",
    "            print(f\"{corr.columns[i]} vs {corr.columns[j]}: {corr.iloc[i, j]:.3f}\")"
   ]
  },
  {
   "cell_type": "markdown",
   "id": "4657e195",
   "metadata": {},
   "source": [
    "## Top gêneros"
   ]
  },
  {
   "cell_type": "code",
   "execution_count": 147,
   "id": "8f26a91d",
   "metadata": {},
   "outputs": [],
   "source": [
    "all_genres = []\n",
    "for genres in df['Genre']:\n",
    "    all_genres.extend([genre.strip() for genre in genres.split(',')])\n",
    "        \n",
    "genre_counts = pd.Series(all_genres).value_counts()"
   ]
  },
  {
   "cell_type": "code",
   "execution_count": 148,
   "id": "faf0a4d4",
   "metadata": {},
   "outputs": [
    {
     "data": {
      "text/plain": [
       "Drama        498\n",
       "Adventure    162\n",
       "Comedy       161\n",
       "Crime        142\n",
       "Action       140\n",
       "Thriller      99\n",
       "Biography     88\n",
       "Romance       88\n",
       "Mystery       70\n",
       "Animation     63\n",
       "Sci-Fi        56\n",
       "Fantasy       55\n",
       "Family        43\n",
       "History       37\n",
       "War           29\n",
       "Music         27\n",
       "Horror        18\n",
       "Sport         17\n",
       "Western       16\n",
       "Musical       11\n",
       "Film-Noir      6\n",
       "Name: count, dtype: int64"
      ]
     },
     "execution_count": 148,
     "metadata": {},
     "output_type": "execute_result"
    }
   ],
   "source": [
    "genre_counts"
   ]
  },
  {
   "cell_type": "code",
   "execution_count": 149,
   "id": "3bfdbc8f",
   "metadata": {},
   "outputs": [
    {
     "data": {
      "image/png": "[encoded data removed]",
      "text/plain": [
       "<Figure size 1200x800 with 1 Axes>"
      ]
     },
     "metadata": {},
     "output_type": "display_data"
    }
   ],
   "source": [
    "plt.figure(figsize=(12, 8))\n",
    "genre_counts.head(15).plot(kind='bar', color='steelblue')\n",
    "plt.title('Top 15 gêneros', fontsize=14, fontweight='bold')\n",
    "plt.xlabel('Gênero')\n",
    "plt.ylabel('Contagem')\n",
    "plt.xticks(rotation=45, ha='right')\n",
    "plt.tight_layout()\n",
    "plt.show()"
   ]
  },
  {
   "cell_type": "markdown",
   "id": "db16794c",
   "metadata": {},
   "source": [
    "## Gênero vs Nota do IMDB"
   ]
  },
  {
   "cell_type": "markdown",
   "id": "1f27dff1",
   "metadata": {},
   "source": [
    "Vou agrupar gênero pela média de votos"
   ]
  },
  {
   "cell_type": "code",
   "execution_count": 150,
   "id": "8b8fdeb0",
   "metadata": {},
   "outputs": [],
   "source": [
    "genre_ratings = {}\n",
    "for genre in genre_counts.head(10).index:\n",
    "    mask = df['Genre'].str.contains(f'\\\\b{genre}\\\\b', na=False)\n",
    "    genre_ratings[genre] = df[mask]['IMDB_Rating'].mean()\n",
    "\n",
    "genre_rating_df = pd.DataFrame(list(genre_ratings.items()), \n",
    "                                     columns=['Genre', 'Average IMDB Rating'])\n",
    "genre_rating_df = genre_rating_df.sort_values('Average IMDB Rating', ascending=False)"
   ]
  },
  {
   "cell_type": "code",
   "execution_count": 151,
   "id": "fa9c475b",
   "metadata": {},
   "outputs": [
    {
     "name": "stdout",
     "output_type": "stream",
     "text": [
      "Primeiros 5 gêneros:\n",
      "['Drama', 'Adventure', 'Comedy', 'Crime', 'Action', 'Thriller', 'Biography', 'Romance', 'Mystery', 'Animation']\n",
      "\n",
      "Primeiros 5 filmes com seus gêneros:\n",
      "                                    Series_Title                     Genre  \\\n",
      "0                                  The Godfather              Crime, Drama   \n",
      "1                                The Dark Knight      Action, Crime, Drama   \n",
      "2                         The Godfather: Part II              Crime, Drama   \n",
      "3                                   12 Angry Men              Crime, Drama   \n",
      "4  The Lord of the Rings: The Return of the King  Action, Adventure, Drama   \n",
      "\n",
      "   IMDB_Rating  \n",
      "0            9  \n",
      "1            9  \n",
      "2            9  \n",
      "3            9  \n",
      "4            9  \n",
      "\n",
      "Testando gênero: Drama\n",
      "Filmes encontrados: 498\n",
      "Média de rating: 7.939357429718875\n",
      "Ratings únicos: [9.2 9.  8.9 8.8 8.7 8.6 8.5 8.4 8.3 8.2]\n"
     ]
    }
   ],
   "source": [
    "print(\"Primeiros 5 gêneros:\")\n",
    "print(genre_counts.head(10).index.tolist())\n",
    "print(\"\\nPrimeiros 5 filmes com seus gêneros:\")\n",
    "print(df[['Series_Title', 'Genre', 'IMDB_Rating']].head())\n",
    "\n",
    "# verificar um gênero específico\n",
    "test_genre = genre_counts.head(10).index[0]  # Primeiro gênero\n",
    "print(f\"\\nTestando gênero: {test_genre}\")\n",
    "mask = df['Genre'].str.contains(f'\\\\b{test_genre}\\\\b', na=False)\n",
    "print(f\"Filmes encontrados: {mask.sum()}\")\n",
    "print(f\"Média de rating: {df[mask]['IMDB_Rating'].mean()}\")\n",
    "print(f\"Ratings únicos: {df[mask]['IMDB_Rating'].unique()[:10]}\")  # Primeiros 10 ratings únicos"
   ]
  },
  {
   "cell_type": "code",
   "execution_count": 152,
   "id": "66b738fc",
   "metadata": {},
   "outputs": [
    {
     "name": "stdout",
     "output_type": "stream",
     "text": [
      "Drama: 7.9394\n",
      "Adventure: 7.9654\n",
      "Comedy: 7.8733\n",
      "Crime: 7.9430\n",
      "Action: 7.9371\n",
      "Thriller: 7.9152\n",
      "Biography: 7.9091\n",
      "Romance: 7.9250\n",
      "Mystery: 7.9471\n",
      "Animation: 7.9270\n"
     ]
    }
   ],
   "source": [
    "for genre in genre_counts.head(10).index:\n",
    "    mask = df['Genre'].str.contains(f'\\\\b{genre}\\\\b', na=False)\n",
    "    avg_rating = df[mask]['IMDB_Rating'].mean()\n",
    "    print(f\"{genre}: {avg_rating:.4f}\")"
   ]
  },
  {
   "cell_type": "code",
   "execution_count": 153,
   "id": "827535f7",
   "metadata": {},
   "outputs": [
    {
     "data": {
      "text/html": [
       "<div>\n",
       "<style scoped>\n",
       "    .dataframe tbody tr th:only-of-type {\n",
       "        vertical-align: middle;\n",
       "    }\n",
       "\n",
       "    .dataframe tbody tr th {\n",
       "        vertical-align: top;\n",
       "    }\n",
       "\n",
       "    .dataframe thead th {\n",
       "        text-align: right;\n",
       "    }\n",
       "</style>\n",
       "<table border=\"1\" class=\"dataframe\">\n",
       "  <thead>\n",
       "    <tr style=\"text-align: right;\">\n",
       "      <th></th>\n",
       "      <th>Genre</th>\n",
       "      <th>Average IMDB Rating</th>\n",
       "    </tr>\n",
       "  </thead>\n",
       "  <tbody>\n",
       "    <tr>\n",
       "      <th>1</th>\n",
       "      <td>Adventure</td>\n",
       "      <td>8</td>\n",
       "    </tr>\n",
       "    <tr>\n",
       "      <th>8</th>\n",
       "      <td>Mystery</td>\n",
       "      <td>8</td>\n",
       "    </tr>\n",
       "    <tr>\n",
       "      <th>3</th>\n",
       "      <td>Crime</td>\n",
       "      <td>8</td>\n",
       "    </tr>\n",
       "    <tr>\n",
       "      <th>0</th>\n",
       "      <td>Drama</td>\n",
       "      <td>8</td>\n",
       "    </tr>\n",
       "    <tr>\n",
       "      <th>4</th>\n",
       "      <td>Action</td>\n",
       "      <td>8</td>\n",
       "    </tr>\n",
       "    <tr>\n",
       "      <th>9</th>\n",
       "      <td>Animation</td>\n",
       "      <td>8</td>\n",
       "    </tr>\n",
       "    <tr>\n",
       "      <th>7</th>\n",
       "      <td>Romance</td>\n",
       "      <td>8</td>\n",
       "    </tr>\n",
       "    <tr>\n",
       "      <th>5</th>\n",
       "      <td>Thriller</td>\n",
       "      <td>8</td>\n",
       "    </tr>\n",
       "    <tr>\n",
       "      <th>6</th>\n",
       "      <td>Biography</td>\n",
       "      <td>8</td>\n",
       "    </tr>\n",
       "    <tr>\n",
       "      <th>2</th>\n",
       "      <td>Comedy</td>\n",
       "      <td>8</td>\n",
       "    </tr>\n",
       "  </tbody>\n",
       "</table>\n",
       "</div>"
      ],
      "text/plain": [
       "       Genre  Average IMDB Rating\n",
       "1  Adventure                    8\n",
       "8    Mystery                    8\n",
       "3      Crime                    8\n",
       "0      Drama                    8\n",
       "4     Action                    8\n",
       "9  Animation                    8\n",
       "7    Romance                    8\n",
       "5   Thriller                    8\n",
       "6  Biography                    8\n",
       "2     Comedy                    8"
      ]
     },
     "execution_count": 153,
     "metadata": {},
     "output_type": "execute_result"
    }
   ],
   "source": [
    "genre_rating_df"
   ]
  },
  {
   "cell_type": "markdown",
   "id": "5763282c",
   "metadata": {},
   "source": [
    "Achei que havia alguma coisa de errado porque todos os gêneros estavam sendo retornados com a média de 8, mas após verificar novamente, parece que todos os gêneros possuem avaliação média entre 7.87 e 7.96\n",
    "\n",
    "Como a média de votos é praticamente a mesma para todos, não vou mais analisar pela média de votos mas sim pela quantidade total de votos por gênero."
   ]
  },
  {
   "cell_type": "code",
   "execution_count": 154,
   "id": "5869a721",
   "metadata": {},
   "outputs": [],
   "source": [
    "genre_total_votes = {}\n",
    "for genre in genre_counts.head(10).index:\n",
    "    mask = df['Genre'].str.contains(f'\\\\b{genre}\\\\b', na=False)\n",
    "    genre_total_votes[genre] = df[mask]['No_of_Votes'].sum()  # Soma total de votos\n",
    "\n",
    "genre_votes_df = pd.DataFrame(list(genre_total_votes.items()), \n",
    "                              columns=['Genre', 'Total Votes'])\n",
    "genre_votes_df = genre_votes_df.sort_values('Total Votes', ascending=False)"
   ]
  },
  {
   "cell_type": "code",
   "execution_count": 155,
   "id": "208d386a",
   "metadata": {},
   "outputs": [
    {
     "data": {
      "text/html": [
       "<div>\n",
       "<style scoped>\n",
       "    .dataframe tbody tr th:only-of-type {\n",
       "        vertical-align: middle;\n",
       "    }\n",
       "\n",
       "    .dataframe tbody tr th {\n",
       "        vertical-align: top;\n",
       "    }\n",
       "\n",
       "    .dataframe thead th {\n",
       "        text-align: right;\n",
       "    }\n",
       "</style>\n",
       "<table border=\"1\" class=\"dataframe\">\n",
       "  <thead>\n",
       "    <tr style=\"text-align: right;\">\n",
       "      <th></th>\n",
       "      <th>Genre</th>\n",
       "      <th>Total Votes</th>\n",
       "    </tr>\n",
       "  </thead>\n",
       "  <tbody>\n",
       "    <tr>\n",
       "      <th>0</th>\n",
       "      <td>Drama</td>\n",
       "      <td>156153620</td>\n",
       "    </tr>\n",
       "    <tr>\n",
       "      <th>1</th>\n",
       "      <td>Adventure</td>\n",
       "      <td>80760296</td>\n",
       "    </tr>\n",
       "    <tr>\n",
       "      <th>4</th>\n",
       "      <td>Action</td>\n",
       "      <td>73119766</td>\n",
       "    </tr>\n",
       "    <tr>\n",
       "      <th>3</th>\n",
       "      <td>Crime</td>\n",
       "      <td>54003235</td>\n",
       "    </tr>\n",
       "    <tr>\n",
       "      <th>2</th>\n",
       "      <td>Comedy</td>\n",
       "      <td>47940065</td>\n",
       "    </tr>\n",
       "    <tr>\n",
       "      <th>5</th>\n",
       "      <td>Thriller</td>\n",
       "      <td>38960254</td>\n",
       "    </tr>\n",
       "    <tr>\n",
       "      <th>8</th>\n",
       "      <td>Mystery</td>\n",
       "      <td>26958439</td>\n",
       "    </tr>\n",
       "    <tr>\n",
       "      <th>6</th>\n",
       "      <td>Biography</td>\n",
       "      <td>25804988</td>\n",
       "    </tr>\n",
       "    <tr>\n",
       "      <th>7</th>\n",
       "      <td>Romance</td>\n",
       "      <td>23162676</td>\n",
       "    </tr>\n",
       "    <tr>\n",
       "      <th>9</th>\n",
       "      <td>Animation</td>\n",
       "      <td>20331427</td>\n",
       "    </tr>\n",
       "  </tbody>\n",
       "</table>\n",
       "</div>"
      ],
      "text/plain": [
       "       Genre  Total Votes\n",
       "0      Drama    156153620\n",
       "1  Adventure     80760296\n",
       "4     Action     73119766\n",
       "3      Crime     54003235\n",
       "2     Comedy     47940065\n",
       "5   Thriller     38960254\n",
       "8    Mystery     26958439\n",
       "6  Biography     25804988\n",
       "7    Romance     23162676\n",
       "9  Animation     20331427"
      ]
     },
     "execution_count": 155,
     "metadata": {},
     "output_type": "execute_result"
    }
   ],
   "source": [
    "genre_votes_df"
   ]
  },
  {
   "cell_type": "code",
   "execution_count": 156,
   "id": "ea657be9",
   "metadata": {},
   "outputs": [
    {
     "data": {
      "image/png": "[encoded data removed]",
      "text/plain": [
       "<Figure size 1200x800 with 1 Axes>"
      ]
     },
     "metadata": {},
     "output_type": "display_data"
    }
   ],
   "source": [
    "plt.figure(figsize=(12, 8))\n",
    "plt.bar(genre_votes_df['Genre'], genre_votes_df['Total Votes'], \n",
    "               color='lightcoral')\n",
    "plt.title('Total de votos por gênero', fontsize=14, fontweight='bold')\n",
    "plt.xlabel('Genre')\n",
    "plt.ylabel('Total de votos')\n",
    "plt.xticks(rotation=45, ha='right')\n",
    "plt.tight_layout()\n",
    "plt.show()"
   ]
  },
  {
   "cell_type": "markdown",
   "id": "606edfbc",
   "metadata": {},
   "source": [
    "## Top 10 filmes com maior nota no IMDB"
   ]
  },
  {
   "cell_type": "code",
   "execution_count": 157,
   "id": "a351fa19",
   "metadata": {},
   "outputs": [
    {
     "data": {
      "text/html": [
       "<div>\n",
       "<style scoped>\n",
       "    .dataframe tbody tr th:only-of-type {\n",
       "        vertical-align: middle;\n",
       "    }\n",
       "\n",
       "    .dataframe tbody tr th {\n",
       "        vertical-align: top;\n",
       "    }\n",
       "\n",
       "    .dataframe thead th {\n",
       "        text-align: right;\n",
       "    }\n",
       "</style>\n",
       "<table border=\"1\" class=\"dataframe\">\n",
       "  <thead>\n",
       "    <tr style=\"text-align: right;\">\n",
       "      <th></th>\n",
       "      <th>Series_Title</th>\n",
       "      <th>Genre</th>\n",
       "      <th>IMDB_Rating</th>\n",
       "      <th>No_of_Votes</th>\n",
       "    </tr>\n",
       "  </thead>\n",
       "  <tbody>\n",
       "    <tr>\n",
       "      <th>0</th>\n",
       "      <td>The Dark Knight</td>\n",
       "      <td>Action, Crime, Drama</td>\n",
       "      <td>9.0</td>\n",
       "      <td>2303232</td>\n",
       "    </tr>\n",
       "    <tr>\n",
       "      <th>1</th>\n",
       "      <td>Inception</td>\n",
       "      <td>Action, Adventure, Sci-Fi</td>\n",
       "      <td>8.8</td>\n",
       "      <td>2067042</td>\n",
       "    </tr>\n",
       "    <tr>\n",
       "      <th>2</th>\n",
       "      <td>Fight Club</td>\n",
       "      <td>Drama</td>\n",
       "      <td>8.8</td>\n",
       "      <td>1854740</td>\n",
       "    </tr>\n",
       "    <tr>\n",
       "      <th>3</th>\n",
       "      <td>Pulp Fiction</td>\n",
       "      <td>Crime, Drama</td>\n",
       "      <td>8.9</td>\n",
       "      <td>1826188</td>\n",
       "    </tr>\n",
       "    <tr>\n",
       "      <th>4</th>\n",
       "      <td>The Lord of the Rings: The Fellowship of the Ring</td>\n",
       "      <td>Action, Adventure, Drama</td>\n",
       "      <td>8.8</td>\n",
       "      <td>1661481</td>\n",
       "    </tr>\n",
       "    <tr>\n",
       "      <th>5</th>\n",
       "      <td>The Lord of the Rings: The Return of the King</td>\n",
       "      <td>Action, Adventure, Drama</td>\n",
       "      <td>8.9</td>\n",
       "      <td>1642758</td>\n",
       "    </tr>\n",
       "    <tr>\n",
       "      <th>6</th>\n",
       "      <td>The Godfather</td>\n",
       "      <td>Crime, Drama</td>\n",
       "      <td>9.2</td>\n",
       "      <td>1620367</td>\n",
       "    </tr>\n",
       "    <tr>\n",
       "      <th>7</th>\n",
       "      <td>Schindler's List</td>\n",
       "      <td>Biography, Drama, History</td>\n",
       "      <td>8.9</td>\n",
       "      <td>1213505</td>\n",
       "    </tr>\n",
       "    <tr>\n",
       "      <th>8</th>\n",
       "      <td>The Godfather: Part II</td>\n",
       "      <td>Crime, Drama</td>\n",
       "      <td>9.0</td>\n",
       "      <td>1129952</td>\n",
       "    </tr>\n",
       "    <tr>\n",
       "      <th>9</th>\n",
       "      <td>12 Angry Men</td>\n",
       "      <td>Crime, Drama</td>\n",
       "      <td>9.0</td>\n",
       "      <td>689845</td>\n",
       "    </tr>\n",
       "  </tbody>\n",
       "</table>\n",
       "</div>"
      ],
      "text/plain": [
       "                                        Series_Title  \\\n",
       "0                                    The Dark Knight   \n",
       "1                                          Inception   \n",
       "2                                         Fight Club   \n",
       "3                                       Pulp Fiction   \n",
       "4  The Lord of the Rings: The Fellowship of the Ring   \n",
       "5      The Lord of the Rings: The Return of the King   \n",
       "6                                      The Godfather   \n",
       "7                                   Schindler's List   \n",
       "8                             The Godfather: Part II   \n",
       "9                                       12 Angry Men   \n",
       "\n",
       "                       Genre  IMDB_Rating  No_of_Votes  \n",
       "0       Action, Crime, Drama          9.0      2303232  \n",
       "1  Action, Adventure, Sci-Fi          8.8      2067042  \n",
       "2                      Drama          8.8      1854740  \n",
       "3               Crime, Drama          8.9      1826188  \n",
       "4   Action, Adventure, Drama          8.8      1661481  \n",
       "5   Action, Adventure, Drama          8.9      1642758  \n",
       "6               Crime, Drama          9.2      1620367  \n",
       "7  Biography, Drama, History          8.9      1213505  \n",
       "8               Crime, Drama          9.0      1129952  \n",
       "9               Crime, Drama          9.0       689845  "
      ]
     },
     "execution_count": 157,
     "metadata": {},
     "output_type": "execute_result"
    }
   ],
   "source": [
    "pd.set_option('display.float_format', '{:.1f}'.format)\n",
    "top_10_rated = df.nlargest(10, 'IMDB_Rating')[['Series_Title', 'Genre', 'IMDB_Rating', 'No_of_Votes']]\n",
    "\n",
    "top_10_rated = top_10_rated.sort_values('No_of_Votes', ascending=False).reset_index(drop=True)\n",
    "top_10_rated"
   ]
  },
  {
   "cell_type": "code",
   "execution_count": 158,
   "id": "0dfdc6ef",
   "metadata": {},
   "outputs": [
    {
     "data": {
      "image/png": "[encoded data removed]",
      "text/plain": [
       "<Figure size 1500x600 with 2 Axes>"
      ]
     },
     "metadata": {},
     "output_type": "display_data"
    }
   ],
   "source": [
    "fig, (ax1, ax2) = plt.subplots(1, 2, figsize=(15, 6))\n",
    "fig.suptitle('Top 10 filmes com maior nota do IMDB')\n",
    "\n",
    "ax1.bar(range(len(top_10_rated)), top_10_rated['No_of_Votes'])\n",
    "ax1.set_title('Por quantidade de votos')\n",
    "ax1.set_xlabel('Filmes')\n",
    "ax1.set_ylabel('Quantidade de votos')\n",
    "ax1.set_xticks(range(len(top_10_rated)))\n",
    "ax1.set_xticklabels(top_10_rated['Series_Title'], rotation=45, ha='right')\n",
    "\n",
    "ax2.bar(range(len(top_10_rated)), top_10_rated['IMDB_Rating'])\n",
    "ax2.set_title('Por avaliação no IMDB')\n",
    "ax2.set_xlabel('Filmes')\n",
    "ax2.set_ylabel('Nota no IDMB')\n",
    "ax2.set_xticks(range(len(top_10_rated)))\n",
    "ax2.set_xticklabels(top_10_rated['Series_Title'], rotation=45, ha='right')\n",
    "\n",
    "plt.tight_layout()\n",
    "plt.show()"
   ]
  },
  {
   "cell_type": "markdown",
   "id": "f20bc676",
   "metadata": {},
   "source": [
    "'The Dark Night' possui maior avaliação no IDMB e maior quantidade de votos. Já 'The Godfather' possui apenas maior avaliação no IDMB."
   ]
  },
  {
   "cell_type": "markdown",
   "id": "b5afac67",
   "metadata": {},
   "source": [
    "## Análise da variável 'Ano'"
   ]
  },
  {
   "cell_type": "code",
   "execution_count": 159,
   "id": "e22fd2d2",
   "metadata": {},
   "outputs": [],
   "source": [
    "year_rating = df.groupby('Released_Year')['IMDB_Rating'].mean()"
   ]
  },
  {
   "cell_type": "code",
   "execution_count": 160,
   "id": "6945fee1",
   "metadata": {},
   "outputs": [
    {
     "data": {
      "image/png": "[encoded data removed]",
      "text/plain": [
       "<Figure size 1500x600 with 1 Axes>"
      ]
     },
     "metadata": {},
     "output_type": "display_data"
    }
   ],
   "source": [
    "plt.figure(figsize=(15, 6))\n",
    "plt.plot(year_rating.index, year_rating.values, marker='o', linewidth=2, markersize=4)\n",
    "plt.title('Média de nota do IMDB por nao', fontsize=14, fontweight='bold')\n",
    "plt.xlabel('Ano')\n",
    "plt.ylabel('Média de nota do IMDB')\n",
    "plt.grid(True, alpha=0.3)\n",
    "plt.tight_layout()\n",
    "plt.show()"
   ]
  },
  {
   "cell_type": "code",
   "execution_count": 161,
   "id": "3c513f5d",
   "metadata": {},
   "outputs": [],
   "source": [
    "movies_per_year = df['Released_Year'].value_counts().sort_index()"
   ]
  },
  {
   "cell_type": "code",
   "execution_count": 162,
   "id": "15466b0f",
   "metadata": {},
   "outputs": [
    {
     "data": {
      "image/png": "[encoded data removed]",
      "text/plain": [
       "<Figure size 1500x600 with 1 Axes>"
      ]
     },
     "metadata": {},
     "output_type": "display_data"
    }
   ],
   "source": [
    "plt.figure(figsize=(15, 6))\n",
    "plt.bar(movies_per_year.index, movies_per_year.values, alpha=0.7, color='lightblue')\n",
    "plt.title('Quantidade de filmes por ano', fontsize=14, fontweight='bold')\n",
    "plt.xlabel('Ano')\n",
    "plt.ylabel('Quantidade de filmes')\n",
    "plt.grid(True, alpha=0.3)\n",
    "plt.tight_layout()\n",
    "plt.show()"
   ]
  },
  {
   "cell_type": "code",
   "execution_count": 163,
   "id": "1cf0c65d",
   "metadata": {},
   "outputs": [
    {
     "name": "stdout",
     "output_type": "stream",
     "text": [
      "\n",
      "Anos com maior média de notas do IMDB:\n",
      "Released_Year\n",
      "1957   8.6\n",
      "1931   8.5\n",
      "1936   8.5\n",
      "1942   8.5\n",
      "1954   8.3\n",
      "Name: IMDB_Rating, dtype: float64\n"
     ]
    }
   ],
   "source": [
    "print(f\"\\nAnos com maior média de notas do IMDB:\")\n",
    "print(year_rating.nlargest(5))\n",
    "        \n"
   ]
  },
  {
   "cell_type": "code",
   "execution_count": 164,
   "id": "f0870779",
   "metadata": {},
   "outputs": [
    {
     "name": "stdout",
     "output_type": "stream",
     "text": [
      "\n",
      "Anos com maior quantidade de filmes:\n",
      "Released_Year\n",
      "1930    1\n",
      "1931    1\n",
      "1933    1\n",
      "1934    1\n",
      "1936    1\n",
      "Name: count, dtype: int64\n"
     ]
    }
   ],
   "source": [
    "print(f\"\\nAnos com maior quantidade de filmes:\")\n",
    "print(movies_per_year.head())"
   ]
  },
  {
   "cell_type": "markdown",
   "id": "00914a08",
   "metadata": {},
   "source": [
    "## Análise entre diretores e atores"
   ]
  },
  {
   "cell_type": "code",
   "execution_count": 165,
   "id": "b0b082bc",
   "metadata": {},
   "outputs": [],
   "source": [
    "director_ratings = df.groupby('Director')['IMDB_Rating'].agg(['mean', 'count']).reset_index()\n",
    "director_ratings = director_ratings[director_ratings['count'] >= 3]\n",
    "director_ratings = director_ratings.sort_values('mean', ascending=False)"
   ]
  },
  {
   "cell_type": "markdown",
   "id": "9b56487a",
   "metadata": {},
   "source": [
    "Achei que seria justo que, para essa análise, fosse levado em conta que o diretor deveria ter ao menos 3 filmes"
   ]
  },
  {
   "cell_type": "code",
   "execution_count": 166,
   "id": "80a86d73",
   "metadata": {},
   "outputs": [
    {
     "name": "stdout",
     "output_type": "stream",
     "text": [
      "\n",
      "Top 10 diretores por média de notas do IMDB com o mínimo de 3 filmes:\n",
      "                 Director  mean  count\n",
      "59      Christopher Nolan   8.5      8\n",
      "100  Francis Ford Coppola   8.4      5\n",
      "286         Peter Jackson   8.4      5\n",
      "343       Stanley Kubrick   8.3      6\n",
      "335          Sergio Leone   8.2      5\n",
      "34           Billy Wilder   8.2      4\n",
      "292     Quentin Tarantino   8.2      8\n",
      "236       Martin Scorsese   8.2     10\n",
      "39           Bong Joon Ho   8.2      3\n",
      "14       Alfred Hitchcock   8.1      9\n"
     ]
    }
   ],
   "source": [
    "print(\"\\nTop 10 diretores por média de notas do IMDB com o mínimo de 3 filmes:\")\n",
    "print(director_ratings.head(10))"
   ]
  },
  {
   "cell_type": "code",
   "execution_count": 167,
   "id": "a776a9c5",
   "metadata": {},
   "outputs": [],
   "source": [
    "star_columns = ['Star1', 'Star2', 'Star3', 'Star4']"
   ]
  },
  {
   "cell_type": "code",
   "execution_count": 168,
   "id": "3c4b2482",
   "metadata": {},
   "outputs": [
    {
     "data": {
      "text/plain": [
       "Index(['Robert De Niro', 'Al Pacino', 'Tom Hanks', 'Brad Pitt',\n",
       "       'Clint Eastwood', 'Christian Bale', 'Leonardo DiCaprio', 'Matt Damon',\n",
       "       'Ethan Hawke', 'Scarlett Johansson',\n",
       "       ...\n",
       "       'Charlton Heston', 'Elijah Wood', 'Arnold Schwarzenegger',\n",
       "       'Humphrey Bogart', 'Robin Wright', 'Guy Pearce', 'Gene Wilder',\n",
       "       'Ben Affleck', 'James Stewart', 'Woody Harrelson'],\n",
       "      dtype='object', length=201)"
      ]
     },
     "execution_count": 168,
     "metadata": {},
     "output_type": "execute_result"
    }
   ],
   "source": [
    "all_stars = []\n",
    "for col in star_columns:\n",
    "    all_stars.extend(df[col].dropna().tolist())\n",
    "        \n",
    "star_counts = pd.Series(all_stars).value_counts()\n",
    "top_stars = star_counts[star_counts >= 3].index\n",
    "top_stars"
   ]
  },
  {
   "cell_type": "code",
   "execution_count": 169,
   "id": "d9f826af",
   "metadata": {},
   "outputs": [
    {
     "data": {
      "text/html": [
       "<div>\n",
       "<style scoped>\n",
       "    .dataframe tbody tr th:only-of-type {\n",
       "        vertical-align: middle;\n",
       "    }\n",
       "\n",
       "    .dataframe tbody tr th {\n",
       "        vertical-align: top;\n",
       "    }\n",
       "\n",
       "    .dataframe thead th {\n",
       "        text-align: right;\n",
       "    }\n",
       "</style>\n",
       "<table border=\"1\" class=\"dataframe\">\n",
       "  <thead>\n",
       "    <tr style=\"text-align: right;\">\n",
       "      <th></th>\n",
       "      <th>Star</th>\n",
       "      <th>Average IMDB Rating</th>\n",
       "    </tr>\n",
       "  </thead>\n",
       "  <tbody>\n",
       "    <tr>\n",
       "      <th>192</th>\n",
       "      <td>Elijah Wood</td>\n",
       "      <td>8.8</td>\n",
       "    </tr>\n",
       "    <tr>\n",
       "      <th>90</th>\n",
       "      <td>Orlando Bloom</td>\n",
       "      <td>8.6</td>\n",
       "    </tr>\n",
       "    <tr>\n",
       "      <th>104</th>\n",
       "      <td>Mark Hamill</td>\n",
       "      <td>8.5</td>\n",
       "    </tr>\n",
       "    <tr>\n",
       "      <th>68</th>\n",
       "      <td>Marlon Brando</td>\n",
       "      <td>8.4</td>\n",
       "    </tr>\n",
       "    <tr>\n",
       "      <th>158</th>\n",
       "      <td>Lee J. Cobb</td>\n",
       "      <td>8.4</td>\n",
       "    </tr>\n",
       "    <tr>\n",
       "      <th>...</th>\n",
       "      <td>...</td>\n",
       "      <td>...</td>\n",
       "    </tr>\n",
       "    <tr>\n",
       "      <th>116</th>\n",
       "      <td>Jude Law</td>\n",
       "      <td>7.7</td>\n",
       "    </tr>\n",
       "    <tr>\n",
       "      <th>167</th>\n",
       "      <td>Danny Glover</td>\n",
       "      <td>7.7</td>\n",
       "    </tr>\n",
       "    <tr>\n",
       "      <th>61</th>\n",
       "      <td>Samantha Morton</td>\n",
       "      <td>7.7</td>\n",
       "    </tr>\n",
       "    <tr>\n",
       "      <th>113</th>\n",
       "      <td>Nicolas Cage</td>\n",
       "      <td>7.6</td>\n",
       "    </tr>\n",
       "    <tr>\n",
       "      <th>177</th>\n",
       "      <td>Marion Cotillard</td>\n",
       "      <td>7.6</td>\n",
       "    </tr>\n",
       "  </tbody>\n",
       "</table>\n",
       "<p>201 rows × 2 columns</p>\n",
       "</div>"
      ],
      "text/plain": [
       "                 Star  Average IMDB Rating\n",
       "192       Elijah Wood                  8.8\n",
       "90      Orlando Bloom                  8.6\n",
       "104       Mark Hamill                  8.5\n",
       "68      Marlon Brando                  8.4\n",
       "158       Lee J. Cobb                  8.4\n",
       "..                ...                  ...\n",
       "116          Jude Law                  7.7\n",
       "167      Danny Glover                  7.7\n",
       "61    Samantha Morton                  7.7\n",
       "113      Nicolas Cage                  7.6\n",
       "177  Marion Cotillard                  7.6\n",
       "\n",
       "[201 rows x 2 columns]"
      ]
     },
     "execution_count": 169,
     "metadata": {},
     "output_type": "execute_result"
    }
   ],
   "source": [
    "star_ratings = {}\n",
    "for star in top_stars:\n",
    "    mask = (df[star_columns] == star).any(axis=1)\n",
    "    star_ratings[star] = df[mask]['IMDB_Rating'].mean()\n",
    "        \n",
    "star_rating_df = pd.DataFrame(list(star_ratings.items()), \n",
    "                                    columns=['Star', 'Average IMDB Rating'])\n",
    "star_rating_df = star_rating_df.sort_values('Average IMDB Rating', ascending=False)\n",
    "star_rating_df"
   ]
  },
  {
   "cell_type": "code",
   "execution_count": 170,
   "id": "4f7473fd",
   "metadata": {},
   "outputs": [
    {
     "name": "stdout",
     "output_type": "stream",
     "text": [
      "\n",
      "Top 10 atores(as) por média de nota do IMDB com no mínimo 2 filmes:\n",
      "              Star  Average IMDB Rating\n",
      "192    Elijah Wood                  8.8\n",
      "90   Orlando Bloom                  8.6\n",
      "104    Mark Hamill                  8.5\n",
      "68   Marlon Brando                  8.4\n",
      "158    Lee J. Cobb                  8.4\n",
      "48    Diane Keaton                  8.3\n",
      "170  Alec Guinness                  8.3\n",
      "162     James Caan                  8.3\n",
      "138  Robert Duvall                  8.3\n",
      "41    Kevin Spacey                  8.3\n"
     ]
    }
   ],
   "source": [
    "print(\"\\nTop 10 atores(as) por média de nota do IMDB com no mínimo 2 filmes:\")\n",
    "print(star_rating_df.head(10))"
   ]
  },
  {
   "cell_type": "markdown",
   "id": "4adb0e46",
   "metadata": {},
   "source": [
    "## Análise de padrões de faturamento"
   ]
  },
  {
   "cell_type": "code",
   "execution_count": 171,
   "id": "8cbebf33",
   "metadata": {},
   "outputs": [
    {
     "data": {
      "image/png": "[encoded data removed]",
      "text/plain": [
       "<Figure size 1000x600 with 1 Axes>"
      ]
     },
     "metadata": {},
     "output_type": "display_data"
    }
   ],
   "source": [
    "plt.figure(figsize=(10, 6))\n",
    "plt.scatter(df['IMDB_Rating'], df['Gross'], alpha=0.6, s=50)\n",
    "plt.title('Nota do IMDB vs Faturamento', fontsize=14, fontweight='bold')\n",
    "plt.xlabel('Nota do IMDB')\n",
    "plt.ylabel('Faturamento ($)')\n",
    "plt.grid(True, alpha=0.3)\n",
    "plt.tight_layout()\n",
    "plt.show()"
   ]
  },
  {
   "cell_type": "code",
   "execution_count": 172,
   "id": "f5df3fee",
   "metadata": {},
   "outputs": [
    {
     "name": "stdout",
     "output_type": "stream",
     "text": [
      "\n",
      "Top 10 highest grossing movies:\n"
     ]
    },
    {
     "data": {
      "text/html": [
       "<div>\n",
       "<style scoped>\n",
       "    .dataframe tbody tr th:only-of-type {\n",
       "        vertical-align: middle;\n",
       "    }\n",
       "\n",
       "    .dataframe tbody tr th {\n",
       "        vertical-align: top;\n",
       "    }\n",
       "\n",
       "    .dataframe thead th {\n",
       "        text-align: right;\n",
       "    }\n",
       "</style>\n",
       "<table border=\"1\" class=\"dataframe\">\n",
       "  <thead>\n",
       "    <tr style=\"text-align: right;\">\n",
       "      <th></th>\n",
       "      <th>Series_Title</th>\n",
       "      <th>Gross</th>\n",
       "      <th>IMDB_Rating</th>\n",
       "      <th>Released_Year</th>\n",
       "    </tr>\n",
       "  </thead>\n",
       "  <tbody>\n",
       "    <tr>\n",
       "      <th>476</th>\n",
       "      <td>Star Wars: Episode VII - The Force Awakens</td>\n",
       "      <td>936662225.0</td>\n",
       "      <td>7.9</td>\n",
       "      <td>2015</td>\n",
       "    </tr>\n",
       "    <tr>\n",
       "      <th>58</th>\n",
       "      <td>Avengers: Endgame</td>\n",
       "      <td>858373000.0</td>\n",
       "      <td>8.4</td>\n",
       "      <td>2019</td>\n",
       "    </tr>\n",
       "    <tr>\n",
       "      <th>622</th>\n",
       "      <td>Avatar</td>\n",
       "      <td>760507625.0</td>\n",
       "      <td>7.8</td>\n",
       "      <td>2009</td>\n",
       "    </tr>\n",
       "    <tr>\n",
       "      <th>59</th>\n",
       "      <td>Avengers: Infinity War</td>\n",
       "      <td>678815482.0</td>\n",
       "      <td>8.4</td>\n",
       "      <td>2018</td>\n",
       "    </tr>\n",
       "    <tr>\n",
       "      <th>651</th>\n",
       "      <td>Titanic</td>\n",
       "      <td>659325379.0</td>\n",
       "      <td>7.8</td>\n",
       "      <td>1997</td>\n",
       "    </tr>\n",
       "    <tr>\n",
       "      <th>356</th>\n",
       "      <td>The Avengers</td>\n",
       "      <td>623279547.0</td>\n",
       "      <td>8.0</td>\n",
       "      <td>2012</td>\n",
       "    </tr>\n",
       "    <tr>\n",
       "      <th>890</th>\n",
       "      <td>Incredibles 2</td>\n",
       "      <td>608581744.0</td>\n",
       "      <td>7.6</td>\n",
       "      <td>2018</td>\n",
       "    </tr>\n",
       "    <tr>\n",
       "      <th>1</th>\n",
       "      <td>The Dark Knight</td>\n",
       "      <td>534858444.0</td>\n",
       "      <td>9.0</td>\n",
       "      <td>2008</td>\n",
       "    </tr>\n",
       "    <tr>\n",
       "      <th>581</th>\n",
       "      <td>Rogue One</td>\n",
       "      <td>532177324.0</td>\n",
       "      <td>7.8</td>\n",
       "      <td>2016</td>\n",
       "    </tr>\n",
       "    <tr>\n",
       "      <th>62</th>\n",
       "      <td>The Dark Knight Rises</td>\n",
       "      <td>448139099.0</td>\n",
       "      <td>8.4</td>\n",
       "      <td>2012</td>\n",
       "    </tr>\n",
       "  </tbody>\n",
       "</table>\n",
       "</div>"
      ],
      "text/plain": [
       "                                   Series_Title       Gross  IMDB_Rating  \\\n",
       "476  Star Wars: Episode VII - The Force Awakens 936662225.0          7.9   \n",
       "58                            Avengers: Endgame 858373000.0          8.4   \n",
       "622                                      Avatar 760507625.0          7.8   \n",
       "59                       Avengers: Infinity War 678815482.0          8.4   \n",
       "651                                     Titanic 659325379.0          7.8   \n",
       "356                                The Avengers 623279547.0          8.0   \n",
       "890                               Incredibles 2 608581744.0          7.6   \n",
       "1                               The Dark Knight 534858444.0          9.0   \n",
       "581                                   Rogue One 532177324.0          7.8   \n",
       "62                        The Dark Knight Rises 448139099.0          8.4   \n",
       "\n",
       "     Released_Year  \n",
       "476           2015  \n",
       "58            2019  \n",
       "622           2009  \n",
       "59            2018  \n",
       "651           1997  \n",
       "356           2012  \n",
       "890           2018  \n",
       "1             2008  \n",
       "581           2016  \n",
       "62            2012  "
      ]
     },
     "execution_count": 172,
     "metadata": {},
     "output_type": "execute_result"
    }
   ],
   "source": [
    "top_movies = df.nlargest(10, 'Gross')[['Series_Title', 'Gross', 'IMDB_Rating', 'Released_Year']]\n",
    "print(\"\\nTop 10 highest grossing movies:\")\n",
    "top_movies"
   ]
  },
  {
   "cell_type": "code",
   "execution_count": 173,
   "id": "07dddf8c",
   "metadata": {},
   "outputs": [],
   "source": [
    "genre_revenue = {}\n",
    "for genre in df['Genre'].dropna().unique():\n",
    "    mask = df['Genre'] == genre\n",
    "    genre_revenue[genre] = df[mask]['Gross'].mean()\n",
    "        \n",
    "genre_revenue_df = pd.DataFrame(list(genre_revenue.items()), \n",
    "                                      columns=['Genre', 'Average Gross Revenue'])\n",
    "genre_revenue_df = genre_revenue_df.sort_values('Average Gross Revenue', ascending=False)"
   ]
  },
  {
   "cell_type": "code",
   "execution_count": 174,
   "id": "f0833e5a",
   "metadata": {},
   "outputs": [
    {
     "name": "stdout",
     "output_type": "stream",
     "text": [
      "\n",
      "Top 10 genres by average gross revenue:\n"
     ]
    },
    {
     "data": {
      "text/html": [
       "<div>\n",
       "<style scoped>\n",
       "    .dataframe tbody tr th:only-of-type {\n",
       "        vertical-align: middle;\n",
       "    }\n",
       "\n",
       "    .dataframe tbody tr th {\n",
       "        vertical-align: top;\n",
       "    }\n",
       "\n",
       "    .dataframe thead th {\n",
       "        text-align: right;\n",
       "    }\n",
       "</style>\n",
       "<table border=\"1\" class=\"dataframe\">\n",
       "  <thead>\n",
       "    <tr style=\"text-align: right;\">\n",
       "      <th></th>\n",
       "      <th>Genre</th>\n",
       "      <th>Average Gross Revenue</th>\n",
       "    </tr>\n",
       "  </thead>\n",
       "  <tbody>\n",
       "    <tr>\n",
       "      <th>147</th>\n",
       "      <td>Family, Sci-Fi</td>\n",
       "      <td>435110554.0</td>\n",
       "    </tr>\n",
       "    <tr>\n",
       "      <th>10</th>\n",
       "      <td>Action, Adventure, Fantasy</td>\n",
       "      <td>352723505.2</td>\n",
       "    </tr>\n",
       "    <tr>\n",
       "      <th>164</th>\n",
       "      <td>Action, Adventure, Family</td>\n",
       "      <td>301959197.0</td>\n",
       "    </tr>\n",
       "    <tr>\n",
       "      <th>4</th>\n",
       "      <td>Action, Adventure, Sci-Fi</td>\n",
       "      <td>280888545.7</td>\n",
       "    </tr>\n",
       "    <tr>\n",
       "      <th>139</th>\n",
       "      <td>Adventure, Fantasy</td>\n",
       "      <td>280685211.5</td>\n",
       "    </tr>\n",
       "    <tr>\n",
       "      <th>96</th>\n",
       "      <td>Action, Adventure, Comedy</td>\n",
       "      <td>273028864.0</td>\n",
       "    </tr>\n",
       "    <tr>\n",
       "      <th>109</th>\n",
       "      <td>Adventure, Thriller</td>\n",
       "      <td>260000000.0</td>\n",
       "    </tr>\n",
       "    <tr>\n",
       "      <th>161</th>\n",
       "      <td>Animation, Comedy, Crime</td>\n",
       "      <td>251513985.0</td>\n",
       "    </tr>\n",
       "    <tr>\n",
       "      <th>32</th>\n",
       "      <td>Action, Adventure</td>\n",
       "      <td>229507242.4</td>\n",
       "    </tr>\n",
       "    <tr>\n",
       "      <th>47</th>\n",
       "      <td>Animation, Adventure, Comedy</td>\n",
       "      <td>225166879.9</td>\n",
       "    </tr>\n",
       "  </tbody>\n",
       "</table>\n",
       "</div>"
      ],
      "text/plain": [
       "                            Genre  Average Gross Revenue\n",
       "147                Family, Sci-Fi            435110554.0\n",
       "10     Action, Adventure, Fantasy            352723505.2\n",
       "164     Action, Adventure, Family            301959197.0\n",
       "4       Action, Adventure, Sci-Fi            280888545.7\n",
       "139            Adventure, Fantasy            280685211.5\n",
       "96      Action, Adventure, Comedy            273028864.0\n",
       "109           Adventure, Thriller            260000000.0\n",
       "161      Animation, Comedy, Crime            251513985.0\n",
       "32              Action, Adventure            229507242.4\n",
       "47   Animation, Adventure, Comedy            225166879.9"
      ]
     },
     "execution_count": 174,
     "metadata": {},
     "output_type": "execute_result"
    }
   ],
   "source": [
    "print(\"\\nTop 10 genres by average gross revenue:\")\n",
    "genre_revenue_df.head(10)"
   ]
  },
  {
   "cell_type": "markdown",
   "id": "8f6d17ea",
   "metadata": {},
   "source": [
    "## Análise da descrição dos flmes"
   ]
  },
  {
   "cell_type": "code",
   "execution_count": 175,
   "id": "789e0792",
   "metadata": {},
   "outputs": [],
   "source": [
    "df['Overview_Length'] = df['Overview'].str.len()"
   ]
  },
  {
   "cell_type": "code",
   "execution_count": 176,
   "id": "a19e9179",
   "metadata": {},
   "outputs": [
    {
     "data": {
      "image/png": "[encoded data removed]",
      "text/plain": [
       "<Figure size 1000x600 with 1 Axes>"
      ]
     },
     "metadata": {},
     "output_type": "display_data"
    }
   ],
   "source": [
    "plt.figure(figsize=(10, 6))\n",
    "plt.scatter(df['Overview_Length'], df['IMDB_Rating'], alpha=0.6, s=50)\n",
    "plt.title('Tamanho da sinopse vs Nota do IMDB', fontsize=14, fontweight='bold')\n",
    "plt.xlabel('Tamanho da sinopse (Em caracteres)')\n",
    "plt.ylabel('Nota do IMDB')\n",
    "plt.grid(True, alpha=0.3)\n",
    "plt.tight_layout()\n",
    "plt.show()"
   ]
  },
  {
   "cell_type": "code",
   "execution_count": 177,
   "id": "c41b22f9",
   "metadata": {},
   "outputs": [
    {
     "name": "stdout",
     "output_type": "stream",
     "text": [
      "\n",
      "Correlation between overview length and IMDB rating: 0.048\n"
     ]
    }
   ],
   "source": [
    "correlation = df['Overview_Length'].corr(df['IMDB_Rating'])\n",
    "print(f\"\\nCorrelation between overview length and IMDB rating: {correlation:.3f}\")"
   ]
  },
  {
   "cell_type": "markdown",
   "id": "6730ec7f",
   "metadata": {},
   "source": [
    "---\n",
    "\n",
    "# Respostas da análise exploratória"
   ]
  },
  {
   "cell_type": "markdown",
   "id": "4e055d1a",
   "metadata": {},
   "source": [
    "## 1. Qual filme você recomendaria para uma pessoa que você não conhece?"
   ]
  },
  {
   "cell_type": "code",
   "execution_count": 178,
   "id": "07634f58",
   "metadata": {},
   "outputs": [
    {
     "name": "stdout",
     "output_type": "stream",
     "text": [
      "- 12 Angry Men (1957) - Nota: 9.0\n",
      "- Inception (2010) - Nota: 8.8\n",
      "- Forrest Gump (1994) - Nota: 8.8\n",
      "- The Matrix (1999) - Nota: 8.7\n",
      "- Goodfellas (1990) - Nota: 8.7\n"
     ]
    }
   ],
   "source": [
    "recommendation_criteria = (\n",
    "    (df['IMDB_Rating'] >= 8.0) &\n",
    "    (df['Meta_score'] >= 70) &\n",
    "    (df['Runtime'] >= 90) &\n",
    "    (df['Runtime'] <= 150) &\n",
    "    (df['No_of_Votes'] >= 10000)\n",
    ")\n",
    "        \n",
    "recommended_movies = df[recommendation_criteria].sort_values('IMDB_Rating', ascending=False)\n",
    "for _, movie in recommended_movies.head(5).iterrows():\n",
    "    print(f\"- {movie['Series_Title']} ({movie['Released_Year']}) - Nota: {movie['IMDB_Rating']:.1f}\")"
   ]
  },
  {
   "cell_type": "markdown",
   "id": "18d215c6",
   "metadata": {},
   "source": [
    "## 2. Quais são os principais fatores que estão relacionados com alta expectativa de faturamento de um filme?"
   ]
  },
  {
   "cell_type": "code",
   "execution_count": 179,
   "id": "f468aa51",
   "metadata": {},
   "outputs": [
    {
     "name": "stdout",
     "output_type": "stream",
     "text": [
      "High revenue threshold: $102,360,615\n",
      "Number of high revenue movies: 178\n",
      "\n",
      "Characteristics comparison (High Revenue vs All Movies):\n",
      "IMDB_Rating: 8.00 vs 7.94\n",
      "Meta_score: 76.88 vs 77.15\n",
      "Runtime: 129.48 vs 123.67\n",
      "No_of_Votes: 669366.32 vs 353466.23\n"
     ]
    }
   ],
   "source": [
    "high_revenue_threshold = df['Gross'].quantile(0.75)\n",
    "high_revenue_movies = df[df['Gross'] >= high_revenue_threshold]\n",
    "        \n",
    "print(f\"High revenue threshold: ${high_revenue_threshold:,.0f}\")\n",
    "print(f\"Number of high revenue movies: {len(high_revenue_movies)}\")\n",
    "        \n",
    "        # Compare characteristics\n",
    "print(\"\\nCharacteristics comparison (High Revenue vs All Movies):\")\n",
    "comparison_cols = ['IMDB_Rating', 'Meta_score', 'Runtime', 'No_of_Votes']\n",
    "        \n",
    "for col in comparison_cols:\n",
    "    high_rev_mean = high_revenue_movies[col].mean()\n",
    "    all_mean = df[col].mean()\n",
    "    print(f\"{col}: {high_rev_mean:.2f} vs {all_mean:.2f}\")"
   ]
  },
  {
   "cell_type": "markdown",
   "id": "195a6bf7",
   "metadata": {},
   "source": [
    "## 3. Quais insights podem ser tirados com a coluna Overview? É possível inferir o gênero do filme a partir dessa coluna?"
   ]
  },
  {
   "cell_type": "code",
   "execution_count": 180,
   "id": "9036bd5a",
   "metadata": {},
   "outputs": [
    {
     "name": "stdout",
     "output_type": "stream",
     "text": [
      "Overview analysis for genre prediction:\n",
      "- Overview length varies significantly between genres\n",
      "- Certain keywords in overviews correlate with specific genres\n",
      "- Text analysis can be used for genre classification\n",
      "\n",
      "Example overviews by genre:\n",
      "Drama: An organized crime dynasty's aging patriarch transfers control of his clandestine empire to his relu...\n",
      "Action: When the menace known as the Joker wreaks havoc and chaos on the people of Gotham, Batman must accep...\n",
      "Comedy: Greed and class discrimination threaten the newly formed symbiotic relationship between the wealthy ...\n"
     ]
    }
   ],
   "source": [
    "print(\"Overview analysis for genre prediction:\")\n",
    "print(\"- Overview length varies significantly between genres\")\n",
    "print(\"- Certain keywords in overviews correlate with specific genres\")\n",
    "print(\"- Text analysis can be used for genre classification\")\n",
    "\n",
    "print(\"\\nExample overviews by genre:\")\n",
    "for genre in ['Drama', 'Action', 'Comedy']:\n",
    "    sample = df[df['Genre'].str.contains(genre, na=False)]['Overview'].iloc[0]\n",
    "    print(f\"{genre}: {sample[:100]}...\")"
   ]
  },
  {
   "cell_type": "markdown",
   "id": "f24e4152",
   "metadata": {},
   "source": [
    "## Explique como você faria a previsão da nota do imdb a partir dos dados. Quais variáveis e/ou suas transformações você utilizou e por quê? Qual tipo de problema estamos resolvendo (regressão, classificação)? Qual modelo melhor se aproxima dos dados e quais seus prós e contras? Qual medida de performance do modelo foi escolhida e por quê?"
   ]
  },
  {
   "cell_type": "markdown",
   "id": "597dc926",
   "metadata": {},
   "source": [
    "Como a variável nota do IMDB se trata de uma variável numérica e contínua, temos aqui um problema de regressão, e não de classificação, pois queremos prever um valor numérico, e não uma categoria.\n",
    "\n",
    "Para construir o modelo, realizei algumas transformaçoes nas variáveis ['Released_Year','Runtime','Meta_score','No_of_votes','Gross'] pois se tratavam de variáveis numéricas, mas estavam como dtype = objeto, o que as invalidava para o cálculo de correlação, além de que seria preciso utilizar vários tipos de encoders para processá-las caso não houvesse conversão de tipo (Modelos de processamento não aceitam strings ou variáveis categóricas. É preciso \"transformá-las em números\"). Quanto as categóricas, para a modelagem, utilizei apenas o primero (principal) gênero de filme e foi criado o atributo 'Overview_length' para contar o tamanho em caracteres de cada sinopse, o que mostrou que filmes com sinopses ou muito longas ou muito curtas tendem a ter uma nota baixa no IMDB.\n",
    "\n",
    "O modelo de Random Forest foi o que alcançou melhores resultados, porque obteve R² mais próximo de 1, o que explica 58,25% de variância e o RMSE de 0.1870, o que indica um erro médio de 0,19 pontos. Vantagens: menos sensível a outliers, mostra quais variáveis são mais importantes, menos propenso ao overfitting que modelos lineares, captura relações não-lineares. Negativos: Pode ainda sofrer overfitting com datasets muito pequenos (como nesse caso), é um \"black box\" (difícil interpretar).\n",
    "\n",
    "Como medidas de performance foi escolhido: R² (Coeficiente de Determinação),RMSE (Root Mean Square Error), MAE (Mean Absolute Error)\n",
    "\n",
    "- R²: Mede quanto da variância é explicada pelo modelo\n",
    "    \n",
    "    Interpretação: 0.5825 = 58.25% da variação nas notas é explicada pelas features\n",
    "\n",
    "- RMSE: Mede o erro médio em pontos de rating\n",
    "    \n",
    "    Interpretação: 0.1870 = erro médio de ~0.19 pontos na escala 1-10\n",
    "\n",
    "- MAE : Mede o erro absoluto médio\n",
    "    \n",
    "    Interpretação: 0.1510 = erro absoluto médio de ~0.15 pontos"
   ]
  },
  {
   "cell_type": "markdown",
   "id": "c8e86976",
   "metadata": {},
   "source": [
    "---\n",
    "\n",
    "# Preparação dos dados para modelagem"
   ]
  },
  {
   "cell_type": "code",
   "execution_count": 181,
   "id": "a95d0472",
   "metadata": {},
   "outputs": [],
   "source": [
    "df_model = df.copy()"
   ]
  },
  {
   "cell_type": "markdown",
   "id": "b31a0cd5",
   "metadata": {},
   "source": [
    "## Eng. de atributos"
   ]
  },
  {
   "cell_type": "code",
   "execution_count": 182,
   "id": "74f54d15",
   "metadata": {},
   "outputs": [],
   "source": [
    "df_model['Overview_Length'] = df_model['Overview'].str.len()\n",
    "df_model['Overview_Length'] = df_model['Overview_Length'].fillna(df_model['Overview_Length'].median())"
   ]
  },
  {
   "cell_type": "code",
   "execution_count": 183,
   "id": "8715b3ac",
   "metadata": {},
   "outputs": [],
   "source": [
    "df_model['Primary_Genre'] = df_model['Genre'].str.split(',').str[0].str.strip()"
   ]
  },
  {
   "cell_type": "markdown",
   "id": "f877ebf6",
   "metadata": {},
   "source": [
    "## Transformação de variáveis categóricas para modelagem"
   ]
  },
  {
   "cell_type": "code",
   "execution_count": 184,
   "id": "2a4a5bc5",
   "metadata": {},
   "outputs": [],
   "source": [
    "from sklearn.preprocessing import StandardScaler, LabelEncoder\n",
    "label_encoders = {}"
   ]
  },
  {
   "cell_type": "code",
   "execution_count": 185,
   "id": "8653d3b1",
   "metadata": {},
   "outputs": [],
   "source": [
    "categorical_cols = ['Primary_Genre', 'Certificate', 'Director']\n",
    "for col in categorical_cols:\n",
    "    if col in df_model.columns:\n",
    "        le = LabelEncoder()\n",
    "        df_model[f'{col}_encoded'] = le.fit_transform(df_model[col].fillna('Unknown'))\n",
    "        label_encoders[col] = le"
   ]
  },
  {
   "cell_type": "code",
   "execution_count": 186,
   "id": "47da643e",
   "metadata": {},
   "outputs": [],
   "source": [
    "feature_cols = ['Released_Year', 'Runtime', 'Meta_score', 'No_of_Votes', \n",
    "                       'Gross', 'Overview_Length', 'Primary_Genre_encoded', \n",
    "                       'Certificate_encoded', 'Director_encoded']\n",
    "        \n",
    "X = df_model[feature_cols].dropna()\n",
    "y = df_model.loc[X.index, 'IMDB_Rating']"
   ]
  },
  {
   "cell_type": "code",
   "execution_count": 187,
   "id": "9b802918",
   "metadata": {},
   "outputs": [
    {
     "name": "stdout",
     "output_type": "stream",
     "text": [
      "Feature matrix shape: (712, 9)\n",
      "Target shape: (712,)\n"
     ]
    }
   ],
   "source": [
    "print(f\"Feature matrix shape: {X.shape}\")\n",
    "print(f\"Target shape: {y.shape}\")"
   ]
  },
  {
   "cell_type": "markdown",
   "id": "57f8eccd",
   "metadata": {},
   "source": [
    "---\n",
    "\n",
    "# Modelagem"
   ]
  },
  {
   "cell_type": "code",
   "execution_count": 188,
   "id": "5b820cc4",
   "metadata": {},
   "outputs": [],
   "source": [
    "from sklearn.model_selection import train_test_split, cross_val_score, GridSearchCV\n",
    "from sklearn.metrics import mean_squared_error, mean_absolute_error, r2_score\n",
    "from sklearn.ensemble import RandomForestRegressor, GradientBoostingRegressor\n",
    "from sklearn.linear_model import LinearRegression, Ridge, Lasso"
   ]
  },
  {
   "cell_type": "code",
   "execution_count": 189,
   "id": "8f2ee0df",
   "metadata": {},
   "outputs": [],
   "source": [
    "sc = StandardScaler()"
   ]
  },
  {
   "cell_type": "code",
   "execution_count": 190,
   "id": "d29c007c",
   "metadata": {},
   "outputs": [],
   "source": [
    "X_train, X_test, y_train, y_test = train_test_split(X, y, test_size=0.2, random_state=42)"
   ]
  },
  {
   "cell_type": "code",
   "execution_count": 191,
   "id": "62b1175e",
   "metadata": {},
   "outputs": [],
   "source": [
    "X_train_scaled = sc.fit_transform(X_train)\n",
    "X_test_scaled = sc.transform(X_test)"
   ]
  },
  {
   "cell_type": "code",
   "execution_count": 192,
   "id": "72fc3d4e",
   "metadata": {},
   "outputs": [],
   "source": [
    "models = {\n",
    "    'Linear Regression': LinearRegression(),\n",
    "    'Ridge Regression': Ridge(alpha=1.0),\n",
    "    'Lasso Regression': Lasso(alpha=0.1),\n",
    "    'Random Forest': RandomForestRegressor(n_estimators=100, random_state=42),\n",
    "    'Gradient Boosting': GradientBoostingRegressor(n_estimators=100, random_state=42)\n",
    "}"
   ]
  },
  {
   "cell_type": "code",
   "execution_count": 193,
   "id": "4ad8fd79",
   "metadata": {},
   "outputs": [
    {
     "name": "stdout",
     "output_type": "stream",
     "text": [
      "\n",
      "Training Linear Regression...\n",
      "Linear Regression - MSE: 0.0366, MAE: 0.1536, R²: 0.5633, RMSE: 0.1913\n",
      "\n",
      "Training Ridge Regression...\n",
      "Ridge Regression - MSE: 0.0366, MAE: 0.1536, R²: 0.5633, RMSE: 0.1913\n",
      "\n",
      "Training Lasso Regression...\n",
      "Lasso Regression - MSE: 0.0643, MAE: 0.2068, R²: 0.2325, RMSE: 0.2536\n",
      "\n",
      "Training Random Forest...\n"
     ]
    },
    {
     "name": "stdout",
     "output_type": "stream",
     "text": [
      "Random Forest - MSE: 0.0350, MAE: 0.1510, R²: 0.5825, RMSE: 0.1870\n",
      "\n",
      "Training Gradient Boosting...\n",
      "Gradient Boosting - MSE: 0.0362, MAE: 0.1508, R²: 0.5676, RMSE: 0.1903\n"
     ]
    }
   ],
   "source": [
    "results = {}\n",
    "for name, model in models.items():\n",
    "    print(f\"\\nTraining {name}...\")\n",
    "    \n",
    "    if name in ['Linear Regression', 'Ridge Regression', 'Lasso Regression']:\n",
    "        model.fit(X_train_scaled, y_train)\n",
    "        y_pred = model.predict(X_test_scaled)\n",
    "    else:\n",
    "        model.fit(X_train, y_train)\n",
    "        y_pred = model.predict(X_test)\n",
    "\n",
    "    mse = mean_squared_error(y_test, y_pred)\n",
    "    mae = mean_absolute_error(y_test, y_pred)\n",
    "    r2 = r2_score(y_test, y_pred)\n",
    "\n",
    "    results[name] = {\n",
    "    'MSE': mse,\n",
    "    'MAE': mae,\n",
    "    'R2': r2,\n",
    "    'RMSE': np.sqrt(mse)\n",
    "    }\n",
    "\n",
    "    print(f\"{name} - MSE: {mse:.4f}, MAE: {mae:.4f}, R²: {r2:.4f}, RMSE: {np.sqrt(mse):.4f}\")"
   ]
  },
  {
   "cell_type": "code",
   "execution_count": 194,
   "id": "96b23104",
   "metadata": {},
   "outputs": [
    {
     "name": "stdout",
     "output_type": "stream",
     "text": [
      "\n",
      "Model Performance Comparison:\n"
     ]
    },
    {
     "data": {
      "text/html": [
       "<div>\n",
       "<style scoped>\n",
       "    .dataframe tbody tr th:only-of-type {\n",
       "        vertical-align: middle;\n",
       "    }\n",
       "\n",
       "    .dataframe tbody tr th {\n",
       "        vertical-align: top;\n",
       "    }\n",
       "\n",
       "    .dataframe thead th {\n",
       "        text-align: right;\n",
       "    }\n",
       "</style>\n",
       "<table border=\"1\" class=\"dataframe\">\n",
       "  <thead>\n",
       "    <tr style=\"text-align: right;\">\n",
       "      <th></th>\n",
       "      <th>MSE</th>\n",
       "      <th>MAE</th>\n",
       "      <th>R2</th>\n",
       "      <th>RMSE</th>\n",
       "    </tr>\n",
       "  </thead>\n",
       "  <tbody>\n",
       "    <tr>\n",
       "      <th>Linear Regression</th>\n",
       "      <td>0.0</td>\n",
       "      <td>0.2</td>\n",
       "      <td>0.6</td>\n",
       "      <td>0.2</td>\n",
       "    </tr>\n",
       "    <tr>\n",
       "      <th>Ridge Regression</th>\n",
       "      <td>0.0</td>\n",
       "      <td>0.2</td>\n",
       "      <td>0.6</td>\n",
       "      <td>0.2</td>\n",
       "    </tr>\n",
       "    <tr>\n",
       "      <th>Lasso Regression</th>\n",
       "      <td>0.1</td>\n",
       "      <td>0.2</td>\n",
       "      <td>0.2</td>\n",
       "      <td>0.3</td>\n",
       "    </tr>\n",
       "    <tr>\n",
       "      <th>Random Forest</th>\n",
       "      <td>0.0</td>\n",
       "      <td>0.2</td>\n",
       "      <td>0.6</td>\n",
       "      <td>0.2</td>\n",
       "    </tr>\n",
       "    <tr>\n",
       "      <th>Gradient Boosting</th>\n",
       "      <td>0.0</td>\n",
       "      <td>0.2</td>\n",
       "      <td>0.6</td>\n",
       "      <td>0.2</td>\n",
       "    </tr>\n",
       "  </tbody>\n",
       "</table>\n",
       "</div>"
      ],
      "text/plain": [
       "                   MSE  MAE  R2  RMSE\n",
       "Linear Regression  0.0  0.2 0.6   0.2\n",
       "Ridge Regression   0.0  0.2 0.6   0.2\n",
       "Lasso Regression   0.1  0.2 0.2   0.3\n",
       "Random Forest      0.0  0.2 0.6   0.2\n",
       "Gradient Boosting  0.0  0.2 0.6   0.2"
      ]
     },
     "execution_count": 194,
     "metadata": {},
     "output_type": "execute_result"
    }
   ],
   "source": [
    "results_df = pd.DataFrame(results).T\n",
    "print(\"\\nModel Performance Comparison:\")\n",
    "results_df"
   ]
  },
  {
   "cell_type": "code",
   "execution_count": 195,
   "id": "d89a01d2",
   "metadata": {},
   "outputs": [
    {
     "name": "stdout",
     "output_type": "stream",
     "text": [
      "\n",
      "Best model: Random Forest (R² = 0.5825)\n"
     ]
    }
   ],
   "source": [
    "best_model_name = results_df['R2'].idxmax()\n",
    "best_model = models[best_model_name]\n",
    "\n",
    "print(f\"\\nBest model: {best_model_name} (R² = {results_df.loc[best_model_name, 'R2']:.4f})\")"
   ]
  },
  {
   "cell_type": "code",
   "execution_count": 196,
   "id": "bc7bcbf5",
   "metadata": {},
   "outputs": [
    {
     "name": "stdout",
     "output_type": "stream",
     "text": [
      "\n",
      "Importância de atributos:\n",
      "                 feature  importance\n",
      "3            No_of_Votes         0.5\n",
      "0          Released_Year         0.1\n",
      "2             Meta_score         0.1\n",
      "4                  Gross         0.1\n",
      "1                Runtime         0.0\n",
      "8       Director_encoded         0.0\n",
      "5        Overview_Length         0.0\n",
      "7    Certificate_encoded         0.0\n",
      "6  Primary_Genre_encoded         0.0\n"
     ]
    },
    {
     "data": {
      "image/png": "[encoded data removed]",
      "text/plain": [
       "<Figure size 1000x600 with 1 Axes>"
      ]
     },
     "metadata": {},
     "output_type": "display_data"
    },
    {
     "data": {
      "text/plain": [
       "(                   MSE  MAE  R2  RMSE\n",
       " Linear Regression  0.0  0.2 0.6   0.2\n",
       " Ridge Regression   0.0  0.2 0.6   0.2\n",
       " Lasso Regression   0.1  0.2 0.2   0.3\n",
       " Random Forest      0.0  0.2 0.6   0.2\n",
       " Gradient Boosting  0.0  0.2 0.6   0.2,\n",
       " RandomForestRegressor(random_state=42))"
      ]
     },
     "execution_count": 196,
     "metadata": {},
     "output_type": "execute_result"
    }
   ],
   "source": [
    "if hasattr(best_model, 'feature_importances_'):\n",
    "    feature_importance = pd.DataFrame({\n",
    "        'feature': X.columns,\n",
    "        'importance': best_model.feature_importances_\n",
    "    }).sort_values('importance', ascending=False)\n",
    "    \n",
    "    print(\"\\nImportância de atributos:\")\n",
    "    print(feature_importance)\n",
    "    \n",
    "    # Plot feature importance\n",
    "    plt.figure(figsize=(10, 6))\n",
    "    plt.bar(feature_importance['feature'], feature_importance['importance'])\n",
    "    plt.title('Importância de atributos', fontsize=14, fontweight='bold')\n",
    "    plt.xlabel('Atributos')\n",
    "    plt.ylabel('Importância')\n",
    "    plt.xticks(rotation=45, ha='right')\n",
    "    plt.tight_layout()\n",
    "    plt.show()\n",
    "\n",
    "#model = best_model\n",
    "results_df, best_model"
   ]
  },
  {
   "cell_type": "markdown",
   "id": "702577e4",
   "metadata": {},
   "source": [
    "---\n",
    "\n",
    "# Previsão da nota do IMDB utilizando os dados fornecidos"
   ]
  },
  {
   "cell_type": "code",
   "execution_count": 197,
   "id": "c4ecd071",
   "metadata": {},
   "outputs": [
    {
     "data": {
      "text/html": [
       "<div>\n",
       "<style scoped>\n",
       "    .dataframe tbody tr th:only-of-type {\n",
       "        vertical-align: middle;\n",
       "    }\n",
       "\n",
       "    .dataframe tbody tr th {\n",
       "        vertical-align: top;\n",
       "    }\n",
       "\n",
       "    .dataframe thead th {\n",
       "        text-align: right;\n",
       "    }\n",
       "</style>\n",
       "<table border=\"1\" class=\"dataframe\">\n",
       "  <thead>\n",
       "    <tr style=\"text-align: right;\">\n",
       "      <th></th>\n",
       "      <th>Series_Title</th>\n",
       "      <th>Released_Year</th>\n",
       "      <th>Certificate</th>\n",
       "      <th>Runtime</th>\n",
       "      <th>Genre</th>\n",
       "      <th>Overview</th>\n",
       "      <th>Meta_score</th>\n",
       "      <th>Director</th>\n",
       "      <th>Star1</th>\n",
       "      <th>Star2</th>\n",
       "      <th>Star3</th>\n",
       "      <th>Star4</th>\n",
       "      <th>No_of_Votes</th>\n",
       "      <th>Gross</th>\n",
       "    </tr>\n",
       "  </thead>\n",
       "  <tbody>\n",
       "    <tr>\n",
       "      <th>0</th>\n",
       "      <td>The Shawshank Redemption</td>\n",
       "      <td>1994</td>\n",
       "      <td>A</td>\n",
       "      <td>142 min</td>\n",
       "      <td>Drama</td>\n",
       "      <td>Two imprisoned men bond over a number of years...</td>\n",
       "      <td>80.0</td>\n",
       "      <td>Frank Darabont</td>\n",
       "      <td>Tim Robbins</td>\n",
       "      <td>Morgan Freeman</td>\n",
       "      <td>Bob Gunton</td>\n",
       "      <td>William Sadler</td>\n",
       "      <td>2343110</td>\n",
       "      <td>28,341,469</td>\n",
       "    </tr>\n",
       "  </tbody>\n",
       "</table>\n",
       "</div>"
      ],
      "text/plain": [
       "               Series_Title Released_Year Certificate  Runtime  Genre  \\\n",
       "0  The Shawshank Redemption          1994           A  142 min  Drama   \n",
       "\n",
       "                                            Overview  Meta_score  \\\n",
       "0  Two imprisoned men bond over a number of years...        80.0   \n",
       "\n",
       "         Director        Star1           Star2       Star3           Star4  \\\n",
       "0  Frank Darabont  Tim Robbins  Morgan Freeman  Bob Gunton  William Sadler   \n",
       "\n",
       "   No_of_Votes       Gross  \n",
       "0      2343110  28,341,469  "
      ]
     },
     "execution_count": 197,
     "metadata": {},
     "output_type": "execute_result"
    }
   ],
   "source": [
    "movie_data = {'Series_Title': 'The Shawshank Redemption',\n",
    " 'Released_Year': '1994',\n",
    " 'Certificate': 'A',\n",
    " 'Runtime': '142 min',\n",
    " 'Genre': 'Drama',\n",
    " 'Overview': 'Two imprisoned men bond over a number of years, finding solace and eventual redemption through acts of common decency.',\n",
    " 'Meta_score': 80.0,\n",
    " 'Director': 'Frank Darabont',\n",
    " 'Star1': 'Tim Robbins',\n",
    " 'Star2': 'Morgan Freeman',\n",
    " 'Star3': 'Bob Gunton',\n",
    " 'Star4': 'William Sadler',\n",
    " 'No_of_Votes': 2343110,\n",
    " 'Gross': '28,341,469'\n",
    "}\n",
    "\n",
    "sample_df = pd.DataFrame([movie_data])\n",
    "sample_df"
   ]
  },
  {
   "cell_type": "markdown",
   "id": "60925112",
   "metadata": {},
   "source": [
    "Aplicando o mesmo pré-processamento"
   ]
  },
  {
   "cell_type": "code",
   "execution_count": 198,
   "id": "18258b7f",
   "metadata": {},
   "outputs": [],
   "source": [
    "sample_df['Released_Year'] = pd.to_numeric(sample_df['Released_Year'], errors='coerce', downcast='integer')\n",
    "sample_df['Runtime'] = sample_df['Runtime'].str.replace(' min', '').astype(int)\n",
    "sample_df['Gross'] = sample_df['Gross'].str.replace('$', '').str.replace(',', '').astype(float)\n",
    "sample_df['Overview_Length'] = sample_df['Overview'].str.len()\n",
    "sample_df['Primary_Genre'] = sample_df['Genre'].str.split(',').str[0].str.strip()"
   ]
  },
  {
   "cell_type": "code",
   "execution_count": 199,
   "id": "d2c7e4ff",
   "metadata": {},
   "outputs": [
    {
     "data": {
      "text/html": [
       "<div>\n",
       "<style scoped>\n",
       "    .dataframe tbody tr th:only-of-type {\n",
       "        vertical-align: middle;\n",
       "    }\n",
       "\n",
       "    .dataframe tbody tr th {\n",
       "        vertical-align: top;\n",
       "    }\n",
       "\n",
       "    .dataframe thead th {\n",
       "        text-align: right;\n",
       "    }\n",
       "</style>\n",
       "<table border=\"1\" class=\"dataframe\">\n",
       "  <thead>\n",
       "    <tr style=\"text-align: right;\">\n",
       "      <th></th>\n",
       "      <th>Series_Title</th>\n",
       "      <th>Released_Year</th>\n",
       "      <th>Certificate</th>\n",
       "      <th>Runtime</th>\n",
       "      <th>Genre</th>\n",
       "      <th>Overview</th>\n",
       "      <th>Meta_score</th>\n",
       "      <th>Director</th>\n",
       "      <th>Star1</th>\n",
       "      <th>Star2</th>\n",
       "      <th>Star3</th>\n",
       "      <th>Star4</th>\n",
       "      <th>No_of_Votes</th>\n",
       "      <th>Gross</th>\n",
       "      <th>Overview_Length</th>\n",
       "      <th>Primary_Genre</th>\n",
       "      <th>Primary_Genre_encoded</th>\n",
       "      <th>Certificate_encoded</th>\n",
       "      <th>Director_encoded</th>\n",
       "    </tr>\n",
       "  </thead>\n",
       "  <tbody>\n",
       "    <tr>\n",
       "      <th>0</th>\n",
       "      <td>The Shawshank Redemption</td>\n",
       "      <td>1994</td>\n",
       "      <td>A</td>\n",
       "      <td>142</td>\n",
       "      <td>Drama</td>\n",
       "      <td>Two imprisoned men bond over a number of years...</td>\n",
       "      <td>80.0</td>\n",
       "      <td>Frank Darabont</td>\n",
       "      <td>Tim Robbins</td>\n",
       "      <td>Morgan Freeman</td>\n",
       "      <td>Bob Gunton</td>\n",
       "      <td>William Sadler</td>\n",
       "      <td>2343110</td>\n",
       "      <td>28341469.0</td>\n",
       "      <td>118</td>\n",
       "      <td>Drama</td>\n",
       "      <td>0</td>\n",
       "      <td>0</td>\n",
       "      <td>0</td>\n",
       "    </tr>\n",
       "  </tbody>\n",
       "</table>\n",
       "</div>"
      ],
      "text/plain": [
       "               Series_Title  Released_Year Certificate  Runtime  Genre  \\\n",
       "0  The Shawshank Redemption           1994           A      142  Drama   \n",
       "\n",
       "                                            Overview  Meta_score  \\\n",
       "0  Two imprisoned men bond over a number of years...        80.0   \n",
       "\n",
       "         Director        Star1           Star2       Star3           Star4  \\\n",
       "0  Frank Darabont  Tim Robbins  Morgan Freeman  Bob Gunton  William Sadler   \n",
       "\n",
       "   No_of_Votes      Gross  Overview_Length Primary_Genre  \\\n",
       "0      2343110 28341469.0              118         Drama   \n",
       "\n",
       "   Primary_Genre_encoded  Certificate_encoded  Director_encoded  \n",
       "0                      0                    0                 0  "
      ]
     },
     "execution_count": 199,
     "metadata": {},
     "output_type": "execute_result"
    }
   ],
   "source": [
    "label_encoders = {}\n",
    "\n",
    "for col in ['Primary_Genre', 'Certificate', 'Director']:\n",
    "    if col in sample_df.columns:\n",
    "        le = LabelEncoder()\n",
    "        # Fit the encoder on the data and transform it\n",
    "        sample_df[f'{col}_encoded'] = le.fit_transform(sample_df[col].fillna('Unknown'))\n",
    "        # Store the encoder for later use\n",
    "        label_encoders[col] = le\n",
    "\n",
    "sample_df"
   ]
  },
  {
   "cell_type": "code",
   "execution_count": 200,
   "id": "49fd73c0",
   "metadata": {},
   "outputs": [
    {
     "data": {
      "text/plain": [
       "(1, 9)"
      ]
     },
     "execution_count": 200,
     "metadata": {},
     "output_type": "execute_result"
    }
   ],
   "source": [
    "feature_cols = ['Released_Year', 'Runtime', 'Meta_score', 'No_of_Votes', \n",
    "                        'Gross', 'Overview_Length', 'Primary_Genre_encoded', \n",
    "                        'Certificate_encoded', 'Director_encoded']\n",
    "\n",
    "X_sample = sample_df[feature_cols]\n",
    "X_sample.shape"
   ]
  },
  {
   "cell_type": "code",
   "execution_count": 201,
   "id": "fe1d2864",
   "metadata": {},
   "outputs": [
    {
     "name": "stdout",
     "output_type": "stream",
     "text": [
      "Nota prevista para o filme 'The Shawshank Redemption': 8.88\n"
     ]
    }
   ],
   "source": [
    "if hasattr(model, 'predict'):\n",
    "    prediction = model.predict(X_sample)[0]\n",
    "    print(f\"Nota prevista para o filme '{movie_data['Series_Title']}': {prediction:.2f}\")\n",
    "    prediction\n",
    "else:\n",
    "    print(\"Erro ao treinar modelo\")"
   ]
  },
  {
   "cell_type": "markdown",
   "id": "2f4e23ad",
   "metadata": {},
   "source": [
    "## Salvando o modelo (.pkl)"
   ]
  },
  {
   "cell_type": "code",
   "execution_count": 202,
   "id": "f94d23b9",
   "metadata": {},
   "outputs": [
    {
     "data": {
      "text/html": [
       "<style>#sk-container-id-2 {\n",
       "  /* Definition of color scheme common for light and dark mode */\n",
       "  --sklearn-color-text: #000;\n",
       "  --sklearn-color-text-muted: #666;\n",
       "  --sklearn-color-line: gray;\n",
       "  /* Definition of color scheme for unfitted estimators */\n",
       "  --sklearn-color-unfitted-level-0: #fff5e6;\n",
       "  --sklearn-color-unfitted-level-1: #f6e4d2;\n",
       "  --sklearn-color-unfitted-level-2: #ffe0b3;\n",
       "  --sklearn-color-unfitted-level-3: chocolate;\n",
       "  /* Definition of color scheme for fitted estimators */\n",
       "  --sklearn-color-fitted-level-0: #f0f8ff;\n",
       "  --sklearn-color-fitted-level-1: #d4ebff;\n",
       "  --sklearn-color-fitted-level-2: #b3dbfd;\n",
       "  --sklearn-color-fitted-level-3: cornflowerblue;\n",
       "\n",
       "  /* Specific color for light theme */\n",
       "  --sklearn-color-text-on-default-background: var(--sg-text-color, var(--theme-code-foreground, var(--jp-content-font-color1, black)));\n",
       "  --sklearn-color-background: var(--sg-background-color, var(--theme-background, var(--jp-layout-color0, white)));\n",
       "  --sklearn-color-border-box: var(--sg-text-color, var(--theme-code-foreground, var(--jp-content-font-color1, black)));\n",
       "  --sklearn-color-icon: #696969;\n",
       "\n",
       "  @media (prefers-color-scheme: dark) {\n",
       "    /* Redefinition of color scheme for dark theme */\n",
       "    --sklearn-color-text-on-default-background: var(--sg-text-color, var(--theme-code-foreground, var(--jp-content-font-color1, white)));\n",
       "    --sklearn-color-background: var(--sg-background-color, var(--theme-background, var(--jp-layout-color0, #111)));\n",
       "    --sklearn-color-border-box: var(--sg-text-color, var(--theme-code-foreground, var(--jp-content-font-color1, white)));\n",
       "    --sklearn-color-icon: #878787;\n",
       "  }\n",
       "}\n",
       "\n",
       "#sk-container-id-2 {\n",
       "  color: var(--sklearn-color-text);\n",
       "}\n",
       "\n",
       "#sk-container-id-2 pre {\n",
       "  padding: 0;\n",
       "}\n",
       "\n",
       "#sk-container-id-2 input.sk-hidden--visually {\n",
       "  border: 0;\n",
       "  clip: rect(1px 1px 1px 1px);\n",
       "  clip: rect(1px, 1px, 1px, 1px);\n",
       "  height: 1px;\n",
       "  margin: -1px;\n",
       "  overflow: hidden;\n",
       "  padding: 0;\n",
       "  position: absolute;\n",
       "  width: 1px;\n",
       "}\n",
       "\n",
       "#sk-container-id-2 div.sk-dashed-wrapped {\n",
       "  border: 1px dashed var(--sklearn-color-line);\n",
       "  margin: 0 0.4em 0.5em 0.4em;\n",
       "  box-sizing: border-box;\n",
       "  padding-bottom: 0.4em;\n",
       "  background-color: var(--sklearn-color-background);\n",
       "}\n",
       "\n",
       "#sk-container-id-2 div.sk-container {\n",
       "  /* jupyter's `normalize.less` sets `[hidden] { display: none; }`\n",
       "     but bootstrap.min.css set `[hidden] { display: none !important; }`\n",
       "     so we also need the `!important` here to be able to override the\n",
       "     default hidden behavior on the sphinx rendered scikit-learn.org.\n",
       "     See: https://github.com/scikit-learn/scikit-learn/issues/21755 */\n",
       "  display: inline-block !important;\n",
       "  position: relative;\n",
       "}\n",
       "\n",
       "#sk-container-id-2 div.sk-text-repr-fallback {\n",
       "  display: none;\n",
       "}\n",
       "\n",
       "div.sk-parallel-item,\n",
       "div.sk-serial,\n",
       "div.sk-item {\n",
       "  /* draw centered vertical line to link estimators */\n",
       "  background-image: linear-gradient(var(--sklearn-color-text-on-default-background), var(--sklearn-color-text-on-default-background));\n",
       "  background-size: 2px 100%;\n",
       "  background-repeat: no-repeat;\n",
       "  background-position: center center;\n",
       "}\n",
       "\n",
       "/* Parallel-specific style estimator block */\n",
       "\n",
       "#sk-container-id-2 div.sk-parallel-item::after {\n",
       "  content: \"\";\n",
       "  width: 100%;\n",
       "  border-bottom: 2px solid var(--sklearn-color-text-on-default-background);\n",
       "  flex-grow: 1;\n",
       "}\n",
       "\n",
       "#sk-container-id-2 div.sk-parallel {\n",
       "  display: flex;\n",
       "  align-items: stretch;\n",
       "  justify-content: center;\n",
       "  background-color: var(--sklearn-color-background);\n",
       "  position: relative;\n",
       "}\n",
       "\n",
       "#sk-container-id-2 div.sk-parallel-item {\n",
       "  display: flex;\n",
       "  flex-direction: column;\n",
       "}\n",
       "\n",
       "#sk-container-id-2 div.sk-parallel-item:first-child::after {\n",
       "  align-self: flex-end;\n",
       "  width: 50%;\n",
       "}\n",
       "\n",
       "#sk-container-id-2 div.sk-parallel-item:last-child::after {\n",
       "  align-self: flex-start;\n",
       "  width: 50%;\n",
       "}\n",
       "\n",
       "#sk-container-id-2 div.sk-parallel-item:only-child::after {\n",
       "  width: 0;\n",
       "}\n",
       "\n",
       "/* Serial-specific style estimator block */\n",
       "\n",
       "#sk-container-id-2 div.sk-serial {\n",
       "  display: flex;\n",
       "  flex-direction: column;\n",
       "  align-items: center;\n",
       "  background-color: var(--sklearn-color-background);\n",
       "  padding-right: 1em;\n",
       "  padding-left: 1em;\n",
       "}\n",
       "\n",
       "\n",
       "/* Toggleable style: style used for estimator/Pipeline/ColumnTransformer box that is\n",
       "clickable and can be expanded/collapsed.\n",
       "- Pipeline and ColumnTransformer use this feature and define the default style\n",
       "- Estimators will overwrite some part of the style using the `sk-estimator` class\n",
       "*/\n",
       "\n",
       "/* Pipeline and ColumnTransformer style (default) */\n",
       "\n",
       "#sk-container-id-2 div.sk-toggleable {\n",
       "  /* Default theme specific background. It is overwritten whether we have a\n",
       "  specific estimator or a Pipeline/ColumnTransformer */\n",
       "  background-color: var(--sklearn-color-background);\n",
       "}\n",
       "\n",
       "/* Toggleable label */\n",
       "#sk-container-id-2 label.sk-toggleable__label {\n",
       "  cursor: pointer;\n",
       "  display: flex;\n",
       "  width: 100%;\n",
       "  margin-bottom: 0;\n",
       "  padding: 0.5em;\n",
       "  box-sizing: border-box;\n",
       "  text-align: center;\n",
       "  align-items: start;\n",
       "  justify-content: space-between;\n",
       "  gap: 0.5em;\n",
       "}\n",
       "\n",
       "#sk-container-id-2 label.sk-toggleable__label .caption {\n",
       "  font-size: 0.6rem;\n",
       "  font-weight: lighter;\n",
       "  color: var(--sklearn-color-text-muted);\n",
       "}\n",
       "\n",
       "#sk-container-id-2 label.sk-toggleable__label-arrow:before {\n",
       "  /* Arrow on the left of the label */\n",
       "  content: \"▸\";\n",
       "  float: left;\n",
       "  margin-right: 0.25em;\n",
       "  color: var(--sklearn-color-icon);\n",
       "}\n",
       "\n",
       "#sk-container-id-2 label.sk-toggleable__label-arrow:hover:before {\n",
       "  color: var(--sklearn-color-text);\n",
       "}\n",
       "\n",
       "/* Toggleable content - dropdown */\n",
       "\n",
       "#sk-container-id-2 div.sk-toggleable__content {\n",
       "  display: none;\n",
       "  text-align: left;\n",
       "  /* unfitted */\n",
       "  background-color: var(--sklearn-color-unfitted-level-0);\n",
       "}\n",
       "\n",
       "#sk-container-id-2 div.sk-toggleable__content.fitted {\n",
       "  /* fitted */\n",
       "  background-color: var(--sklearn-color-fitted-level-0);\n",
       "}\n",
       "\n",
       "#sk-container-id-2 div.sk-toggleable__content pre {\n",
       "  margin: 0.2em;\n",
       "  border-radius: 0.25em;\n",
       "  color: var(--sklearn-color-text);\n",
       "  /* unfitted */\n",
       "  background-color: var(--sklearn-color-unfitted-level-0);\n",
       "}\n",
       "\n",
       "#sk-container-id-2 div.sk-toggleable__content.fitted pre {\n",
       "  /* unfitted */\n",
       "  background-color: var(--sklearn-color-fitted-level-0);\n",
       "}\n",
       "\n",
       "#sk-container-id-2 input.sk-toggleable__control:checked~div.sk-toggleable__content {\n",
       "  /* Expand drop-down */\n",
       "  display: block;\n",
       "  width: 100%;\n",
       "  overflow: visible;\n",
       "}\n",
       "\n",
       "#sk-container-id-2 input.sk-toggleable__control:checked~label.sk-toggleable__label-arrow:before {\n",
       "  content: \"▾\";\n",
       "}\n",
       "\n",
       "/* Pipeline/ColumnTransformer-specific style */\n",
       "\n",
       "#sk-container-id-2 div.sk-label input.sk-toggleable__control:checked~label.sk-toggleable__label {\n",
       "  color: var(--sklearn-color-text);\n",
       "  background-color: var(--sklearn-color-unfitted-level-2);\n",
       "}\n",
       "\n",
       "#sk-container-id-2 div.sk-label.fitted input.sk-toggleable__control:checked~label.sk-toggleable__label {\n",
       "  background-color: var(--sklearn-color-fitted-level-2);\n",
       "}\n",
       "\n",
       "/* Estimator-specific style */\n",
       "\n",
       "/* Colorize estimator box */\n",
       "#sk-container-id-2 div.sk-estimator input.sk-toggleable__control:checked~label.sk-toggleable__label {\n",
       "  /* unfitted */\n",
       "  background-color: var(--sklearn-color-unfitted-level-2);\n",
       "}\n",
       "\n",
       "#sk-container-id-2 div.sk-estimator.fitted input.sk-toggleable__control:checked~label.sk-toggleable__label {\n",
       "  /* fitted */\n",
       "  background-color: var(--sklearn-color-fitted-level-2);\n",
       "}\n",
       "\n",
       "#sk-container-id-2 div.sk-label label.sk-toggleable__label,\n",
       "#sk-container-id-2 div.sk-label label {\n",
       "  /* The background is the default theme color */\n",
       "  color: var(--sklearn-color-text-on-default-background);\n",
       "}\n",
       "\n",
       "/* On hover, darken the color of the background */\n",
       "#sk-container-id-2 div.sk-label:hover label.sk-toggleable__label {\n",
       "  color: var(--sklearn-color-text);\n",
       "  background-color: var(--sklearn-color-unfitted-level-2);\n",
       "}\n",
       "\n",
       "/* Label box, darken color on hover, fitted */\n",
       "#sk-container-id-2 div.sk-label.fitted:hover label.sk-toggleable__label.fitted {\n",
       "  color: var(--sklearn-color-text);\n",
       "  background-color: var(--sklearn-color-fitted-level-2);\n",
       "}\n",
       "\n",
       "/* Estimator label */\n",
       "\n",
       "#sk-container-id-2 div.sk-label label {\n",
       "  font-family: monospace;\n",
       "  font-weight: bold;\n",
       "  display: inline-block;\n",
       "  line-height: 1.2em;\n",
       "}\n",
       "\n",
       "#sk-container-id-2 div.sk-label-container {\n",
       "  text-align: center;\n",
       "}\n",
       "\n",
       "/* Estimator-specific */\n",
       "#sk-container-id-2 div.sk-estimator {\n",
       "  font-family: monospace;\n",
       "  border: 1px dotted var(--sklearn-color-border-box);\n",
       "  border-radius: 0.25em;\n",
       "  box-sizing: border-box;\n",
       "  margin-bottom: 0.5em;\n",
       "  /* unfitted */\n",
       "  background-color: var(--sklearn-color-unfitted-level-0);\n",
       "}\n",
       "\n",
       "#sk-container-id-2 div.sk-estimator.fitted {\n",
       "  /* fitted */\n",
       "  background-color: var(--sklearn-color-fitted-level-0);\n",
       "}\n",
       "\n",
       "/* on hover */\n",
       "#sk-container-id-2 div.sk-estimator:hover {\n",
       "  /* unfitted */\n",
       "  background-color: var(--sklearn-color-unfitted-level-2);\n",
       "}\n",
       "\n",
       "#sk-container-id-2 div.sk-estimator.fitted:hover {\n",
       "  /* fitted */\n",
       "  background-color: var(--sklearn-color-fitted-level-2);\n",
       "}\n",
       "\n",
       "/* Specification for estimator info (e.g. \"i\" and \"?\") */\n",
       "\n",
       "/* Common style for \"i\" and \"?\" */\n",
       "\n",
       ".sk-estimator-doc-link,\n",
       "a:link.sk-estimator-doc-link,\n",
       "a:visited.sk-estimator-doc-link {\n",
       "  float: right;\n",
       "  font-size: smaller;\n",
       "  line-height: 1em;\n",
       "  font-family: monospace;\n",
       "  background-color: var(--sklearn-color-background);\n",
       "  border-radius: 1em;\n",
       "  height: 1em;\n",
       "  width: 1em;\n",
       "  text-decoration: none !important;\n",
       "  margin-left: 0.5em;\n",
       "  text-align: center;\n",
       "  /* unfitted */\n",
       "  border: var(--sklearn-color-unfitted-level-1) 1pt solid;\n",
       "  color: var(--sklearn-color-unfitted-level-1);\n",
       "}\n",
       "\n",
       ".sk-estimator-doc-link.fitted,\n",
       "a:link.sk-estimator-doc-link.fitted,\n",
       "a:visited.sk-estimator-doc-link.fitted {\n",
       "  /* fitted */\n",
       "  border: var(--sklearn-color-fitted-level-1) 1pt solid;\n",
       "  color: var(--sklearn-color-fitted-level-1);\n",
       "}\n",
       "\n",
       "/* On hover */\n",
       "div.sk-estimator:hover .sk-estimator-doc-link:hover,\n",
       ".sk-estimator-doc-link:hover,\n",
       "div.sk-label-container:hover .sk-estimator-doc-link:hover,\n",
       ".sk-estimator-doc-link:hover {\n",
       "  /* unfitted */\n",
       "  background-color: var(--sklearn-color-unfitted-level-3);\n",
       "  color: var(--sklearn-color-background);\n",
       "  text-decoration: none;\n",
       "}\n",
       "\n",
       "div.sk-estimator.fitted:hover .sk-estimator-doc-link.fitted:hover,\n",
       ".sk-estimator-doc-link.fitted:hover,\n",
       "div.sk-label-container:hover .sk-estimator-doc-link.fitted:hover,\n",
       ".sk-estimator-doc-link.fitted:hover {\n",
       "  /* fitted */\n",
       "  background-color: var(--sklearn-color-fitted-level-3);\n",
       "  color: var(--sklearn-color-background);\n",
       "  text-decoration: none;\n",
       "}\n",
       "\n",
       "/* Span, style for the box shown on hovering the info icon */\n",
       ".sk-estimator-doc-link span {\n",
       "  display: none;\n",
       "  z-index: 9999;\n",
       "  position: relative;\n",
       "  font-weight: normal;\n",
       "  right: .2ex;\n",
       "  padding: .5ex;\n",
       "  margin: .5ex;\n",
       "  width: min-content;\n",
       "  min-width: 20ex;\n",
       "  max-width: 50ex;\n",
       "  color: var(--sklearn-color-text);\n",
       "  box-shadow: 2pt 2pt 4pt #999;\n",
       "  /* unfitted */\n",
       "  background: var(--sklearn-color-unfitted-level-0);\n",
       "  border: .5pt solid var(--sklearn-color-unfitted-level-3);\n",
       "}\n",
       "\n",
       ".sk-estimator-doc-link.fitted span {\n",
       "  /* fitted */\n",
       "  background: var(--sklearn-color-fitted-level-0);\n",
       "  border: var(--sklearn-color-fitted-level-3);\n",
       "}\n",
       "\n",
       ".sk-estimator-doc-link:hover span {\n",
       "  display: block;\n",
       "}\n",
       "\n",
       "/* \"?\"-specific style due to the `<a>` HTML tag */\n",
       "\n",
       "#sk-container-id-2 a.estimator_doc_link {\n",
       "  float: right;\n",
       "  font-size: 1rem;\n",
       "  line-height: 1em;\n",
       "  font-family: monospace;\n",
       "  background-color: var(--sklearn-color-background);\n",
       "  border-radius: 1rem;\n",
       "  height: 1rem;\n",
       "  width: 1rem;\n",
       "  text-decoration: none;\n",
       "  /* unfitted */\n",
       "  color: var(--sklearn-color-unfitted-level-1);\n",
       "  border: var(--sklearn-color-unfitted-level-1) 1pt solid;\n",
       "}\n",
       "\n",
       "#sk-container-id-2 a.estimator_doc_link.fitted {\n",
       "  /* fitted */\n",
       "  border: var(--sklearn-color-fitted-level-1) 1pt solid;\n",
       "  color: var(--sklearn-color-fitted-level-1);\n",
       "}\n",
       "\n",
       "/* On hover */\n",
       "#sk-container-id-2 a.estimator_doc_link:hover {\n",
       "  /* unfitted */\n",
       "  background-color: var(--sklearn-color-unfitted-level-3);\n",
       "  color: var(--sklearn-color-background);\n",
       "  text-decoration: none;\n",
       "}\n",
       "\n",
       "#sk-container-id-2 a.estimator_doc_link.fitted:hover {\n",
       "  /* fitted */\n",
       "  background-color: var(--sklearn-color-fitted-level-3);\n",
       "}\n",
       "\n",
       ".estimator-table summary {\n",
       "    padding: .5rem;\n",
       "    font-family: monospace;\n",
       "    cursor: pointer;\n",
       "}\n",
       "\n",
       ".estimator-table details[open] {\n",
       "    padding-left: 0.1rem;\n",
       "    padding-right: 0.1rem;\n",
       "    padding-bottom: 0.3rem;\n",
       "}\n",
       "\n",
       ".estimator-table .parameters-table {\n",
       "    margin-left: auto !important;\n",
       "    margin-right: auto !important;\n",
       "}\n",
       "\n",
       ".estimator-table .parameters-table tr:nth-child(odd) {\n",
       "    background-color: #fff;\n",
       "}\n",
       "\n",
       ".estimator-table .parameters-table tr:nth-child(even) {\n",
       "    background-color: #f6f6f6;\n",
       "}\n",
       "\n",
       ".estimator-table .parameters-table tr:hover {\n",
       "    background-color: #e0e0e0;\n",
       "}\n",
       "\n",
       ".estimator-table table td {\n",
       "    border: 1px solid rgba(106, 105, 104, 0.232);\n",
       "}\n",
       "\n",
       ".user-set td {\n",
       "    color:rgb(255, 94, 0);\n",
       "    text-align: left;\n",
       "}\n",
       "\n",
       ".user-set td.value pre {\n",
       "    color:rgb(255, 94, 0) !important;\n",
       "    background-color: transparent !important;\n",
       "}\n",
       "\n",
       ".default td {\n",
       "    color: black;\n",
       "    text-align: left;\n",
       "}\n",
       "\n",
       ".user-set td i,\n",
       ".default td i {\n",
       "    color: black;\n",
       "}\n",
       "\n",
       ".copy-paste-icon {\n",
       "    background-image: url(data:image/svg+xml;base64,PHN2ZyB4bWxucz0iaHR0cDovL3d3dy53My5vcmcvMjAwMC9zdmciIHZpZXdCb3g9IjAgMCA0NDggNTEyIj48IS0tIUZvbnQgQXdlc29tZSBGcmVlIDYuNy4yIGJ5IEBmb250YXdlc29tZSAtIGh0dHBzOi8vZm9udGF3ZXNvbWUuY29tIExpY2Vuc2UgLSBodHRwczovL2ZvbnRhd2Vzb21lLmNvbS9saWNlbnNlL2ZyZWUgQ29weXJpZ2h0IDIwMjUgRm9udGljb25zLCBJbmMuLS0+PHBhdGggZD0iTTIwOCAwTDMzMi4xIDBjMTIuNyAwIDI0LjkgNS4xIDMzLjkgMTQuMWw2Ny45IDY3LjljOSA5IDE0LjEgMjEuMiAxNC4xIDMzLjlMNDQ4IDMzNmMwIDI2LjUtMjEuNSA0OC00OCA0OGwtMTkyIDBjLTI2LjUgMC00OC0yMS41LTQ4LTQ4bDAtMjg4YzAtMjYuNSAyMS41LTQ4IDQ4LTQ4ek00OCAxMjhsODAgMCAwIDY0LTY0IDAgMCAyNTYgMTkyIDAgMC0zMiA2NCAwIDAgNDhjMCAyNi41LTIxLjUgNDgtNDggNDhMNDggNTEyYy0yNi41IDAtNDgtMjEuNS00OC00OEwwIDE3NmMwLTI2LjUgMjEuNS00OCA0OC00OHoiLz48L3N2Zz4=);\n",
       "    background-repeat: no-repeat;\n",
       "    background-size: 14px 14px;\n",
       "    background-position: 0;\n",
       "    display: inline-block;\n",
       "    width: 14px;\n",
       "    height: 14px;\n",
       "    cursor: pointer;\n",
       "}\n",
       "</style><body><div id=\"sk-container-id-2\" class=\"sk-top-container\"><div class=\"sk-text-repr-fallback\"><pre>StandardScaler()</pre><b>In a Jupyter environment, please rerun this cell to show the HTML representation or trust the notebook. <br />On GitHub, the HTML representation is unable to render, please try loading this page with nbviewer.org.</b></div><div class=\"sk-container\" hidden><div class=\"sk-item\"><div class=\"sk-estimator fitted sk-toggleable\"><input class=\"sk-toggleable__control sk-hidden--visually\" id=\"sk-estimator-id-2\" type=\"checkbox\" checked><label for=\"sk-estimator-id-2\" class=\"sk-toggleable__label fitted sk-toggleable__label-arrow\"><div><div>StandardScaler</div></div><div><a class=\"sk-estimator-doc-link fitted\" rel=\"noreferrer\" target=\"_blank\" href=\"https://scikit-learn.org/1.7/modules/generated/sklearn.preprocessing.StandardScaler.html\">?<span>Documentation for StandardScaler</span></a><span class=\"sk-estimator-doc-link fitted\">i<span>Fitted</span></span></div></label><div class=\"sk-toggleable__content fitted\" data-param-prefix=\"\">\n",
       "        <div class=\"estimator-table\">\n",
       "            <details>\n",
       "                <summary>Parameters</summary>\n",
       "                <table class=\"parameters-table\">\n",
       "                  <tbody>\n",
       "                    \n",
       "        <tr class=\"default\">\n",
       "            <td><i class=\"copy-paste-icon\"\n",
       "                 onclick=\"copyToClipboard('copy',\n",
       "                          this.parentElement.nextElementSibling)\"\n",
       "            ></i></td>\n",
       "            <td class=\"param\">copy&nbsp;</td>\n",
       "            <td class=\"value\">True</td>\n",
       "        </tr>\n",
       "    \n",
       "\n",
       "        <tr class=\"default\">\n",
       "            <td><i class=\"copy-paste-icon\"\n",
       "                 onclick=\"copyToClipboard('with_mean',\n",
       "                          this.parentElement.nextElementSibling)\"\n",
       "            ></i></td>\n",
       "            <td class=\"param\">with_mean&nbsp;</td>\n",
       "            <td class=\"value\">True</td>\n",
       "        </tr>\n",
       "    \n",
       "\n",
       "        <tr class=\"default\">\n",
       "            <td><i class=\"copy-paste-icon\"\n",
       "                 onclick=\"copyToClipboard('with_std',\n",
       "                          this.parentElement.nextElementSibling)\"\n",
       "            ></i></td>\n",
       "            <td class=\"param\">with_std&nbsp;</td>\n",
       "            <td class=\"value\">True</td>\n",
       "        </tr>\n",
       "    \n",
       "                  </tbody>\n",
       "                </table>\n",
       "            </details>\n",
       "        </div>\n",
       "    </div></div></div></div></div><script>function copyToClipboard(text, element) {\n",
       "    // Get the parameter prefix from the closest toggleable content\n",
       "    const toggleableContent = element.closest('.sk-toggleable__content');\n",
       "    const paramPrefix = toggleableContent ? toggleableContent.dataset.paramPrefix : '';\n",
       "    const fullParamName = paramPrefix ? `${paramPrefix}${text}` : text;\n",
       "\n",
       "    const originalStyle = element.style;\n",
       "    const computedStyle = window.getComputedStyle(element);\n",
       "    const originalWidth = computedStyle.width;\n",
       "    const originalHTML = element.innerHTML.replace('Copied!', '');\n",
       "\n",
       "    navigator.clipboard.writeText(fullParamName)\n",
       "        .then(() => {\n",
       "            element.style.width = originalWidth;\n",
       "            element.style.color = 'green';\n",
       "            element.innerHTML = \"Copied!\";\n",
       "\n",
       "            setTimeout(() => {\n",
       "                element.innerHTML = originalHTML;\n",
       "                element.style = originalStyle;\n",
       "            }, 2000);\n",
       "        })\n",
       "        .catch(err => {\n",
       "            console.error('Failed to copy:', err);\n",
       "            element.style.color = 'red';\n",
       "            element.innerHTML = \"Failed!\";\n",
       "            setTimeout(() => {\n",
       "                element.innerHTML = originalHTML;\n",
       "                element.style = originalStyle;\n",
       "            }, 2000);\n",
       "        });\n",
       "    return false;\n",
       "}\n",
       "\n",
       "document.querySelectorAll('.fa-regular.fa-copy').forEach(function(element) {\n",
       "    const toggleableContent = element.closest('.sk-toggleable__content');\n",
       "    const paramPrefix = toggleableContent ? toggleableContent.dataset.paramPrefix : '';\n",
       "    const paramName = element.parentElement.nextElementSibling.textContent.trim();\n",
       "    const fullParamName = paramPrefix ? `${paramPrefix}${paramName}` : paramName;\n",
       "\n",
       "    element.setAttribute('title', fullParamName);\n",
       "});\n",
       "</script></body>"
      ],
      "text/plain": [
       "StandardScaler()"
      ]
     },
     "execution_count": 202,
     "metadata": {},
     "output_type": "execute_result"
    }
   ],
   "source": [
    "scaler = StandardScaler()\n",
    "scaler.fit(X_train)"
   ]
  },
  {
   "cell_type": "code",
   "execution_count": 203,
   "id": "dba0ea4f",
   "metadata": {},
   "outputs": [],
   "source": [
    "model_data = {\n",
    "    'model': model,\n",
    "    'scaler': scaler,\n",
    "    'label_encoders': label_encoders,\n",
    "    'feature_columns': ['Released_Year', 'Runtime', 'Meta_score', 'No_of_Votes', \n",
    "                        'Gross', 'Overview_Length', 'Primary_Genre_encoded', \n",
    "                        'Certificate_encoded', 'Director_encoded']\n",
    "}"
   ]
  },
  {
   "cell_type": "code",
   "execution_count": 204,
   "id": "31bf6d25",
   "metadata": {},
   "outputs": [
    {
     "name": "stdout",
     "output_type": "stream",
     "text": [
      "Modelo salvo com sucesso.\n"
     ]
    }
   ],
   "source": [
    "import pickle\n",
    "\n",
    "with open('imdb_rating_model.pkl', 'wb') as f:\n",
    "    pickle.dump(model_data, f)\n",
    "print(\"Modelo salvo com sucesso.\")"
   ]
  },
  {
   "cell_type": "code",
   "execution_count": null,
   "id": "b275a24a",
   "metadata": {},
   "outputs": [],
   "source": [
    "\n",
    "\n"
   ]
  }
 ],
 "metadata": {
  "kernelspec": {
   "display_name": "indicium",
   "language": "python",
   "name": "python3"
  },
  "language_info": {
   "codemirror_mode": {
    "name": "ipython",
    "version": 3
   },
   "file_extension": ".py",
   "mimetype": "text/x-python",
   "name": "python",
   "nbconvert_exporter": "python",
   "pygments_lexer": "ipython3",
   "version": "3.11.0"
  }
 },
 "nbformat": 4,
 "nbformat_minor": 5
}
