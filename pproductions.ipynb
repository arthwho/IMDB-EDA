{
 "cells": [
  {
   "cell_type": "markdown",
   "id": "d4a68789",
   "metadata": {},
   "source": [
    "# Desafio Indicium IMDB\n",
    "\n",
    "# Introdução\n",
    "\n",
    "**Arthur Silva Ferreira Coelho**\n",
    "\n",
    "---\n",
    "\n",
    "Variáveis\n",
    "\n",
    "- Series_Title – Nome do filme\n",
    "- Released_Year - Ano de lançamento\n",
    "- Certificate - Classificação etária\n",
    "- Runtime – Tempo de duração\n",
    "- Genre - Gênero\n",
    "- IMDB_Rating - Nota do IMDB\n",
    "- Overview - Overview do filme\n",
    "- Meta_score - Média ponderada de todas as críticas \n",
    "- Director – Diretor\n",
    "- Star1 - Ator/atriz #1\n",
    "- Star2 - Ator/atriz #2\n",
    "- Star3 - Ator/atriz #3\n",
    "- Star4 - Ator/atriz #4\n",
    "- No_of_Votes - Número de votos\n",
    "- Gross - Faturamento\n"
   ]
  },
  {
   "cell_type": "code",
   "execution_count": 19,
   "id": "7a240e06",
   "metadata": {},
   "outputs": [],
   "source": [
    "import pandas as pd\n",
    "import numpy as np\n",
    "import seaborn as sns\n",
    "import matplotlib.pyplot as plt"
   ]
  },
  {
   "cell_type": "markdown",
   "id": "1802aed1",
   "metadata": {},
   "source": [
    "## Importando o dataset"
   ]
  },
  {
   "cell_type": "code",
   "execution_count": 20,
   "id": "03a26ae0",
   "metadata": {},
   "outputs": [
    {
     "data": {
      "text/plain": [
       "(999, 16)"
      ]
     },
     "execution_count": 20,
     "metadata": {},
     "output_type": "execute_result"
    }
   ],
   "source": [
    "df = pd.read_csv('datasets/desafio_indicium_imdb.csv')\n",
    "df.shape"
   ]
  },
  {
   "cell_type": "code",
   "execution_count": 21,
   "id": "6ed36ff7",
   "metadata": {},
   "outputs": [
    {
     "data": {
      "text/html": [
       "<div>\n",
       "<style scoped>\n",
       "    .dataframe tbody tr th:only-of-type {\n",
       "        vertical-align: middle;\n",
       "    }\n",
       "\n",
       "    .dataframe tbody tr th {\n",
       "        vertical-align: top;\n",
       "    }\n",
       "\n",
       "    .dataframe thead th {\n",
       "        text-align: right;\n",
       "    }\n",
       "</style>\n",
       "<table border=\"1\" class=\"dataframe\">\n",
       "  <thead>\n",
       "    <tr style=\"text-align: right;\">\n",
       "      <th></th>\n",
       "      <th>Unnamed: 0</th>\n",
       "      <th>Series_Title</th>\n",
       "      <th>Released_Year</th>\n",
       "      <th>Certificate</th>\n",
       "      <th>Runtime</th>\n",
       "      <th>Genre</th>\n",
       "      <th>IMDB_Rating</th>\n",
       "      <th>Overview</th>\n",
       "      <th>Meta_score</th>\n",
       "      <th>Director</th>\n",
       "      <th>Star1</th>\n",
       "      <th>Star2</th>\n",
       "      <th>Star3</th>\n",
       "      <th>Star4</th>\n",
       "      <th>No_of_Votes</th>\n",
       "      <th>Gross</th>\n",
       "    </tr>\n",
       "  </thead>\n",
       "  <tbody>\n",
       "    <tr>\n",
       "      <th>0</th>\n",
       "      <td>1</td>\n",
       "      <td>The Godfather</td>\n",
       "      <td>1972</td>\n",
       "      <td>A</td>\n",
       "      <td>175 min</td>\n",
       "      <td>Crime, Drama</td>\n",
       "      <td>9</td>\n",
       "      <td>An organized crime dynasty's aging patriarch t...</td>\n",
       "      <td>100</td>\n",
       "      <td>Francis Ford Coppola</td>\n",
       "      <td>Marlon Brando</td>\n",
       "      <td>Al Pacino</td>\n",
       "      <td>James Caan</td>\n",
       "      <td>Diane Keaton</td>\n",
       "      <td>1620367</td>\n",
       "      <td>134,966,411</td>\n",
       "    </tr>\n",
       "    <tr>\n",
       "      <th>1</th>\n",
       "      <td>2</td>\n",
       "      <td>The Dark Knight</td>\n",
       "      <td>2008</td>\n",
       "      <td>UA</td>\n",
       "      <td>152 min</td>\n",
       "      <td>Action, Crime, Drama</td>\n",
       "      <td>9</td>\n",
       "      <td>When the menace known as the Joker wreaks havo...</td>\n",
       "      <td>84</td>\n",
       "      <td>Christopher Nolan</td>\n",
       "      <td>Christian Bale</td>\n",
       "      <td>Heath Ledger</td>\n",
       "      <td>Aaron Eckhart</td>\n",
       "      <td>Michael Caine</td>\n",
       "      <td>2303232</td>\n",
       "      <td>534,858,444</td>\n",
       "    </tr>\n",
       "    <tr>\n",
       "      <th>2</th>\n",
       "      <td>3</td>\n",
       "      <td>The Godfather: Part II</td>\n",
       "      <td>1974</td>\n",
       "      <td>A</td>\n",
       "      <td>202 min</td>\n",
       "      <td>Crime, Drama</td>\n",
       "      <td>9</td>\n",
       "      <td>The early life and career of Vito Corleone in ...</td>\n",
       "      <td>90</td>\n",
       "      <td>Francis Ford Coppola</td>\n",
       "      <td>Al Pacino</td>\n",
       "      <td>Robert De Niro</td>\n",
       "      <td>Robert Duvall</td>\n",
       "      <td>Diane Keaton</td>\n",
       "      <td>1129952</td>\n",
       "      <td>57,300,000</td>\n",
       "    </tr>\n",
       "    <tr>\n",
       "      <th>3</th>\n",
       "      <td>4</td>\n",
       "      <td>12 Angry Men</td>\n",
       "      <td>1957</td>\n",
       "      <td>U</td>\n",
       "      <td>96 min</td>\n",
       "      <td>Crime, Drama</td>\n",
       "      <td>9</td>\n",
       "      <td>A jury holdout attempts to prevent a miscarria...</td>\n",
       "      <td>96</td>\n",
       "      <td>Sidney Lumet</td>\n",
       "      <td>Henry Fonda</td>\n",
       "      <td>Lee J. Cobb</td>\n",
       "      <td>Martin Balsam</td>\n",
       "      <td>John Fiedler</td>\n",
       "      <td>689845</td>\n",
       "      <td>4,360,000</td>\n",
       "    </tr>\n",
       "    <tr>\n",
       "      <th>4</th>\n",
       "      <td>5</td>\n",
       "      <td>The Lord of the Rings: The Return of the King</td>\n",
       "      <td>2003</td>\n",
       "      <td>U</td>\n",
       "      <td>201 min</td>\n",
       "      <td>Action, Adventure, Drama</td>\n",
       "      <td>9</td>\n",
       "      <td>Gandalf and Aragorn lead the World of Men agai...</td>\n",
       "      <td>94</td>\n",
       "      <td>Peter Jackson</td>\n",
       "      <td>Elijah Wood</td>\n",
       "      <td>Viggo Mortensen</td>\n",
       "      <td>Ian McKellen</td>\n",
       "      <td>Orlando Bloom</td>\n",
       "      <td>1642758</td>\n",
       "      <td>377,845,905</td>\n",
       "    </tr>\n",
       "  </tbody>\n",
       "</table>\n",
       "</div>"
      ],
      "text/plain": [
       "   Unnamed: 0                                   Series_Title Released_Year  \\\n",
       "0           1                                  The Godfather          1972   \n",
       "1           2                                The Dark Knight          2008   \n",
       "2           3                         The Godfather: Part II          1974   \n",
       "3           4                                   12 Angry Men          1957   \n",
       "4           5  The Lord of the Rings: The Return of the King          2003   \n",
       "\n",
       "  Certificate  Runtime                     Genre  IMDB_Rating  \\\n",
       "0           A  175 min              Crime, Drama            9   \n",
       "1          UA  152 min      Action, Crime, Drama            9   \n",
       "2           A  202 min              Crime, Drama            9   \n",
       "3           U   96 min              Crime, Drama            9   \n",
       "4           U  201 min  Action, Adventure, Drama            9   \n",
       "\n",
       "                                            Overview  Meta_score  \\\n",
       "0  An organized crime dynasty's aging patriarch t...         100   \n",
       "1  When the menace known as the Joker wreaks havo...          84   \n",
       "2  The early life and career of Vito Corleone in ...          90   \n",
       "3  A jury holdout attempts to prevent a miscarria...          96   \n",
       "4  Gandalf and Aragorn lead the World of Men agai...          94   \n",
       "\n",
       "               Director           Star1            Star2          Star3  \\\n",
       "0  Francis Ford Coppola   Marlon Brando        Al Pacino     James Caan   \n",
       "1     Christopher Nolan  Christian Bale     Heath Ledger  Aaron Eckhart   \n",
       "2  Francis Ford Coppola       Al Pacino   Robert De Niro  Robert Duvall   \n",
       "3          Sidney Lumet     Henry Fonda      Lee J. Cobb  Martin Balsam   \n",
       "4         Peter Jackson     Elijah Wood  Viggo Mortensen   Ian McKellen   \n",
       "\n",
       "           Star4  No_of_Votes        Gross  \n",
       "0   Diane Keaton      1620367  134,966,411  \n",
       "1  Michael Caine      2303232  534,858,444  \n",
       "2   Diane Keaton      1129952   57,300,000  \n",
       "3   John Fiedler       689845    4,360,000  \n",
       "4  Orlando Bloom      1642758  377,845,905  "
      ]
     },
     "execution_count": 21,
     "metadata": {},
     "output_type": "execute_result"
    }
   ],
   "source": [
    "df.head(5)"
   ]
  },
  {
   "cell_type": "markdown",
   "id": "9126122a",
   "metadata": {},
   "source": [
    "Como o dataset já é bem pequeno, não há necessidade de fazer um sample."
   ]
  },
  {
   "cell_type": "markdown",
   "id": "7c2289fa",
   "metadata": {},
   "source": [
    "## Limpando o dataset"
   ]
  },
  {
   "cell_type": "code",
   "execution_count": 22,
   "id": "3f330184",
   "metadata": {},
   "outputs": [
    {
     "data": {
      "text/plain": [
       "(Unnamed: 0         int64\n",
       " Series_Title      object\n",
       " Released_Year     object\n",
       " Certificate       object\n",
       " Runtime           object\n",
       " Genre             object\n",
       " IMDB_Rating      float64\n",
       " Overview          object\n",
       " Meta_score       float64\n",
       " Director          object\n",
       " Star1             object\n",
       " Star2             object\n",
       " Star3             object\n",
       " Star4             object\n",
       " No_of_Votes        int64\n",
       " Gross             object\n",
       " dtype: object,\n",
       " Index(['Unnamed: 0', 'Series_Title', 'Released_Year', 'Certificate', 'Runtime',\n",
       "        'Genre', 'IMDB_Rating', 'Overview', 'Meta_score', 'Director', 'Star1',\n",
       "        'Star2', 'Star3', 'Star4', 'No_of_Votes', 'Gross'],\n",
       "       dtype='object'),\n",
       " array([dtype('int64'), dtype('O'), dtype('float64')], dtype=object))"
      ]
     },
     "execution_count": 22,
     "metadata": {},
     "output_type": "execute_result"
    }
   ],
   "source": [
    "df.dtypes, df.columns, df.dtypes.unique()"
   ]
  },
  {
   "cell_type": "markdown",
   "id": "8389eb75",
   "metadata": {},
   "source": [
    "Released_year, Runtime e Gross são variáveis numéricas, mas estão como objetos."
   ]
  },
  {
   "cell_type": "code",
   "execution_count": 23,
   "id": "229baeaf",
   "metadata": {},
   "outputs": [
    {
     "data": {
      "text/plain": [
       "array(['1972', '2008', '1974', '1957', '2003', '1994', '1993', '2010',\n",
       "       '1999', '2001', '1966', '2002', '1990', '1980', '1975', '2020',\n",
       "       '2019', '2014', '1998', '1997', '1995', '1991', '1977', '1962',\n",
       "       '1954', '1946', '2011', '2006', '2000', '1988', '1985', '1968',\n",
       "       '1960', '1942', '1936', '1931', '2018', '2017', '2016', '2012',\n",
       "       '2009', '2007', '1984', '1981', '1979', '1971', '1963', '1964',\n",
       "       '1950', '1940', '2013', '2005', '2004', '1992', '1987', '1986',\n",
       "       '1983', '1976', '1973', '1965', '1959', '1958', '1952', '1948',\n",
       "       '1944', '1941', '1927', '1921', '2015', '1996', '1989', '1978',\n",
       "       '1961', '1955', '1953', '1925', '1924', '1982', '1967', '1951',\n",
       "       '1949', '1939', '1937', '1934', '1928', '1926', '1920', '1970',\n",
       "       '1969', '1956', '1947', '1945', '1930', '1938', '1935', '1933',\n",
       "       '1932', '1922', '1943', 'PG'], dtype=object)"
      ]
     },
     "execution_count": 23,
     "metadata": {},
     "output_type": "execute_result"
    }
   ],
   "source": [
    "df[\"Released_Year\"].isnull().sum(),\n",
    "df[\"Released_Year\"].unique()"
   ]
  },
  {
   "cell_type": "markdown",
   "id": "ce5811da",
   "metadata": {},
   "source": [
    "Tem um ano \"PG\". provavelmente foi erro de digitação. não posso supor de que ano o filme é, por isso, vou remover esse dado da tabela."
   ]
  },
  {
   "cell_type": "code",
   "execution_count": 24,
   "id": "39b4d6de",
   "metadata": {},
   "outputs": [],
   "source": [
    "problematic_values = ['PG']\n",
    "df = df[df['Released_Year'] != 'PG']"
   ]
  },
  {
   "cell_type": "code",
   "execution_count": 25,
   "id": "79b83b85",
   "metadata": {},
   "outputs": [
    {
     "data": {
      "text/plain": [
       "Unnamed: 0         int64\n",
       "Series_Title      object\n",
       "Released_Year      int64\n",
       "Certificate       object\n",
       "Runtime            int64\n",
       "Genre             object\n",
       "IMDB_Rating      float64\n",
       "Overview          object\n",
       "Meta_score       float64\n",
       "Director          object\n",
       "Star1             object\n",
       "Star2             object\n",
       "Star3             object\n",
       "Star4             object\n",
       "No_of_Votes        int64\n",
       "Gross            float64\n",
       "dtype: object"
      ]
     },
     "execution_count": 25,
     "metadata": {},
     "output_type": "execute_result"
    }
   ],
   "source": [
    "df['Released_Year'] = df['Released_Year'].astype(int)\n",
    "df['Runtime'] = df['Runtime'].str.replace(' min', '').astype(int)\n",
    "df['Gross'] = df['Gross'].str.replace('$', '').str.replace(',', '').astype(float)\n",
    "df.dtypes"
   ]
  },
  {
   "cell_type": "code",
   "execution_count": 26,
   "id": "a38ab6b1",
   "metadata": {},
   "outputs": [],
   "source": [
    "pd.set_option('display.float_format', lambda x: f\"{x:,.0f}\" if pd.notna(x) else \"NaN\")"
   ]
  },
  {
   "cell_type": "markdown",
   "id": "480b46b9",
   "metadata": {},
   "source": [
    "Há uma coluna \"Unnamed' que parece ser o index das linhas"
   ]
  },
  {
   "cell_type": "code",
   "execution_count": 27,
   "id": "1ea278ba",
   "metadata": {},
   "outputs": [],
   "source": [
    "df = df.drop('Unnamed: 0', axis=1)"
   ]
  },
  {
   "cell_type": "code",
   "execution_count": 28,
   "id": "9b01f212",
   "metadata": {},
   "outputs": [
    {
     "data": {
      "text/html": [
       "<div>\n",
       "<style scoped>\n",
       "    .dataframe tbody tr th:only-of-type {\n",
       "        vertical-align: middle;\n",
       "    }\n",
       "\n",
       "    .dataframe tbody tr th {\n",
       "        vertical-align: top;\n",
       "    }\n",
       "\n",
       "    .dataframe thead th {\n",
       "        text-align: right;\n",
       "    }\n",
       "</style>\n",
       "<table border=\"1\" class=\"dataframe\">\n",
       "  <thead>\n",
       "    <tr style=\"text-align: right;\">\n",
       "      <th></th>\n",
       "      <th>Series_Title</th>\n",
       "      <th>Released_Year</th>\n",
       "      <th>Certificate</th>\n",
       "      <th>Runtime</th>\n",
       "      <th>Genre</th>\n",
       "      <th>IMDB_Rating</th>\n",
       "      <th>Overview</th>\n",
       "      <th>Meta_score</th>\n",
       "      <th>Director</th>\n",
       "      <th>Star1</th>\n",
       "      <th>Star2</th>\n",
       "      <th>Star3</th>\n",
       "      <th>Star4</th>\n",
       "      <th>No_of_Votes</th>\n",
       "      <th>Gross</th>\n",
       "    </tr>\n",
       "  </thead>\n",
       "  <tbody>\n",
       "    <tr>\n",
       "      <th>0</th>\n",
       "      <td>The Godfather</td>\n",
       "      <td>1972</td>\n",
       "      <td>A</td>\n",
       "      <td>175</td>\n",
       "      <td>Crime, Drama</td>\n",
       "      <td>9</td>\n",
       "      <td>An organized crime dynasty's aging patriarch t...</td>\n",
       "      <td>100</td>\n",
       "      <td>Francis Ford Coppola</td>\n",
       "      <td>Marlon Brando</td>\n",
       "      <td>Al Pacino</td>\n",
       "      <td>James Caan</td>\n",
       "      <td>Diane Keaton</td>\n",
       "      <td>1620367</td>\n",
       "      <td>134,966,411</td>\n",
       "    </tr>\n",
       "    <tr>\n",
       "      <th>1</th>\n",
       "      <td>The Dark Knight</td>\n",
       "      <td>2008</td>\n",
       "      <td>UA</td>\n",
       "      <td>152</td>\n",
       "      <td>Action, Crime, Drama</td>\n",
       "      <td>9</td>\n",
       "      <td>When the menace known as the Joker wreaks havo...</td>\n",
       "      <td>84</td>\n",
       "      <td>Christopher Nolan</td>\n",
       "      <td>Christian Bale</td>\n",
       "      <td>Heath Ledger</td>\n",
       "      <td>Aaron Eckhart</td>\n",
       "      <td>Michael Caine</td>\n",
       "      <td>2303232</td>\n",
       "      <td>534,858,444</td>\n",
       "    </tr>\n",
       "    <tr>\n",
       "      <th>2</th>\n",
       "      <td>The Godfather: Part II</td>\n",
       "      <td>1974</td>\n",
       "      <td>A</td>\n",
       "      <td>202</td>\n",
       "      <td>Crime, Drama</td>\n",
       "      <td>9</td>\n",
       "      <td>The early life and career of Vito Corleone in ...</td>\n",
       "      <td>90</td>\n",
       "      <td>Francis Ford Coppola</td>\n",
       "      <td>Al Pacino</td>\n",
       "      <td>Robert De Niro</td>\n",
       "      <td>Robert Duvall</td>\n",
       "      <td>Diane Keaton</td>\n",
       "      <td>1129952</td>\n",
       "      <td>57,300,000</td>\n",
       "    </tr>\n",
       "    <tr>\n",
       "      <th>3</th>\n",
       "      <td>12 Angry Men</td>\n",
       "      <td>1957</td>\n",
       "      <td>U</td>\n",
       "      <td>96</td>\n",
       "      <td>Crime, Drama</td>\n",
       "      <td>9</td>\n",
       "      <td>A jury holdout attempts to prevent a miscarria...</td>\n",
       "      <td>96</td>\n",
       "      <td>Sidney Lumet</td>\n",
       "      <td>Henry Fonda</td>\n",
       "      <td>Lee J. Cobb</td>\n",
       "      <td>Martin Balsam</td>\n",
       "      <td>John Fiedler</td>\n",
       "      <td>689845</td>\n",
       "      <td>4,360,000</td>\n",
       "    </tr>\n",
       "    <tr>\n",
       "      <th>4</th>\n",
       "      <td>The Lord of the Rings: The Return of the King</td>\n",
       "      <td>2003</td>\n",
       "      <td>U</td>\n",
       "      <td>201</td>\n",
       "      <td>Action, Adventure, Drama</td>\n",
       "      <td>9</td>\n",
       "      <td>Gandalf and Aragorn lead the World of Men agai...</td>\n",
       "      <td>94</td>\n",
       "      <td>Peter Jackson</td>\n",
       "      <td>Elijah Wood</td>\n",
       "      <td>Viggo Mortensen</td>\n",
       "      <td>Ian McKellen</td>\n",
       "      <td>Orlando Bloom</td>\n",
       "      <td>1642758</td>\n",
       "      <td>377,845,905</td>\n",
       "    </tr>\n",
       "  </tbody>\n",
       "</table>\n",
       "</div>"
      ],
      "text/plain": [
       "                                    Series_Title  Released_Year Certificate  \\\n",
       "0                                  The Godfather           1972           A   \n",
       "1                                The Dark Knight           2008          UA   \n",
       "2                         The Godfather: Part II           1974           A   \n",
       "3                                   12 Angry Men           1957           U   \n",
       "4  The Lord of the Rings: The Return of the King           2003           U   \n",
       "\n",
       "   Runtime                     Genre  IMDB_Rating  \\\n",
       "0      175              Crime, Drama            9   \n",
       "1      152      Action, Crime, Drama            9   \n",
       "2      202              Crime, Drama            9   \n",
       "3       96              Crime, Drama            9   \n",
       "4      201  Action, Adventure, Drama            9   \n",
       "\n",
       "                                            Overview  Meta_score  \\\n",
       "0  An organized crime dynasty's aging patriarch t...         100   \n",
       "1  When the menace known as the Joker wreaks havo...          84   \n",
       "2  The early life and career of Vito Corleone in ...          90   \n",
       "3  A jury holdout attempts to prevent a miscarria...          96   \n",
       "4  Gandalf and Aragorn lead the World of Men agai...          94   \n",
       "\n",
       "               Director           Star1            Star2          Star3  \\\n",
       "0  Francis Ford Coppola   Marlon Brando        Al Pacino     James Caan   \n",
       "1     Christopher Nolan  Christian Bale     Heath Ledger  Aaron Eckhart   \n",
       "2  Francis Ford Coppola       Al Pacino   Robert De Niro  Robert Duvall   \n",
       "3          Sidney Lumet     Henry Fonda      Lee J. Cobb  Martin Balsam   \n",
       "4         Peter Jackson     Elijah Wood  Viggo Mortensen   Ian McKellen   \n",
       "\n",
       "           Star4  No_of_Votes       Gross  \n",
       "0   Diane Keaton      1620367 134,966,411  \n",
       "1  Michael Caine      2303232 534,858,444  \n",
       "2   Diane Keaton      1129952  57,300,000  \n",
       "3   John Fiedler       689845   4,360,000  \n",
       "4  Orlando Bloom      1642758 377,845,905  "
      ]
     },
     "execution_count": 28,
     "metadata": {},
     "output_type": "execute_result"
    }
   ],
   "source": [
    "df.head(5)"
   ]
  },
  {
   "cell_type": "code",
   "execution_count": 29,
   "id": "af290d8b",
   "metadata": {},
   "outputs": [
    {
     "data": {
      "text/plain": [
       "(998, 15)"
      ]
     },
     "execution_count": 29,
     "metadata": {},
     "output_type": "execute_result"
    }
   ],
   "source": [
    "df.shape"
   ]
  },
  {
   "cell_type": "markdown",
   "id": "43bf615c",
   "metadata": {},
   "source": [
    "Ótimo, de (999,16) foi para (998,15), o que significa que removemos com sucesso apenas aquela linha com 'PG' e agora temos dados numéricos com dtypes apropriados assim como a remoção da coluna Unnamed, que nçao tinha valor para nossa análise."
   ]
  },
  {
   "cell_type": "markdown",
   "id": "1ff44555",
   "metadata": {},
   "source": [
    "# Análise Exploratória"
   ]
  },
  {
   "cell_type": "code",
   "execution_count": 30,
   "id": "8b247af0",
   "metadata": {},
   "outputs": [
    {
     "data": {
      "text/html": [
       "<div>\n",
       "<style scoped>\n",
       "    .dataframe tbody tr th:only-of-type {\n",
       "        vertical-align: middle;\n",
       "    }\n",
       "\n",
       "    .dataframe tbody tr th {\n",
       "        vertical-align: top;\n",
       "    }\n",
       "\n",
       "    .dataframe thead th {\n",
       "        text-align: right;\n",
       "    }\n",
       "</style>\n",
       "<table border=\"1\" class=\"dataframe\">\n",
       "  <thead>\n",
       "    <tr style=\"text-align: right;\">\n",
       "      <th></th>\n",
       "      <th>Released_Year</th>\n",
       "      <th>Runtime</th>\n",
       "      <th>IMDB_Rating</th>\n",
       "      <th>Meta_score</th>\n",
       "      <th>No_of_Votes</th>\n",
       "      <th>Gross</th>\n",
       "    </tr>\n",
       "  </thead>\n",
       "  <tbody>\n",
       "    <tr>\n",
       "      <th>count</th>\n",
       "      <td>998</td>\n",
       "      <td>998</td>\n",
       "      <td>998</td>\n",
       "      <td>841</td>\n",
       "      <td>998</td>\n",
       "      <td>829</td>\n",
       "    </tr>\n",
       "    <tr>\n",
       "      <th>mean</th>\n",
       "      <td>1,991</td>\n",
       "      <td>123</td>\n",
       "      <td>8</td>\n",
       "      <td>78</td>\n",
       "      <td>271,624</td>\n",
       "      <td>67,955,004</td>\n",
       "    </tr>\n",
       "    <tr>\n",
       "      <th>std</th>\n",
       "      <td>23</td>\n",
       "      <td>28</td>\n",
       "      <td>0</td>\n",
       "      <td>12</td>\n",
       "      <td>321,074</td>\n",
       "      <td>109,812,283</td>\n",
       "    </tr>\n",
       "    <tr>\n",
       "      <th>min</th>\n",
       "      <td>1,920</td>\n",
       "      <td>45</td>\n",
       "      <td>8</td>\n",
       "      <td>28</td>\n",
       "      <td>25,088</td>\n",
       "      <td>1,305</td>\n",
       "    </tr>\n",
       "    <tr>\n",
       "      <th>25%</th>\n",
       "      <td>1,976</td>\n",
       "      <td>103</td>\n",
       "      <td>8</td>\n",
       "      <td>70</td>\n",
       "      <td>55,417</td>\n",
       "      <td>3,237,118</td>\n",
       "    </tr>\n",
       "    <tr>\n",
       "      <th>50%</th>\n",
       "      <td>1,999</td>\n",
       "      <td>119</td>\n",
       "      <td>8</td>\n",
       "      <td>79</td>\n",
       "      <td>138,168</td>\n",
       "      <td>23,383,987</td>\n",
       "    </tr>\n",
       "    <tr>\n",
       "      <th>75%</th>\n",
       "      <td>2,009</td>\n",
       "      <td>137</td>\n",
       "      <td>8</td>\n",
       "      <td>87</td>\n",
       "      <td>373,506</td>\n",
       "      <td>80,500,000</td>\n",
       "    </tr>\n",
       "    <tr>\n",
       "      <th>max</th>\n",
       "      <td>2,020</td>\n",
       "      <td>321</td>\n",
       "      <td>9</td>\n",
       "      <td>100</td>\n",
       "      <td>2,303,232</td>\n",
       "      <td>936,662,225</td>\n",
       "    </tr>\n",
       "  </tbody>\n",
       "</table>\n",
       "</div>"
      ],
      "text/plain": [
       "       Released_Year  Runtime  IMDB_Rating  Meta_score  No_of_Votes  \\\n",
       "count            998      998          998         841          998   \n",
       "mean           1,991      123            8          78      271,624   \n",
       "std               23       28            0          12      321,074   \n",
       "min            1,920       45            8          28       25,088   \n",
       "25%            1,976      103            8          70       55,417   \n",
       "50%            1,999      119            8          79      138,168   \n",
       "75%            2,009      137            8          87      373,506   \n",
       "max            2,020      321            9         100    2,303,232   \n",
       "\n",
       "            Gross  \n",
       "count         829  \n",
       "mean   67,955,004  \n",
       "std   109,812,283  \n",
       "min         1,305  \n",
       "25%     3,237,118  \n",
       "50%    23,383,987  \n",
       "75%    80,500,000  \n",
       "max   936,662,225  "
      ]
     },
     "execution_count": 30,
     "metadata": {},
     "output_type": "execute_result"
    }
   ],
   "source": [
    "df.describe()"
   ]
  },
  {
   "cell_type": "markdown",
   "id": "a72019cd",
   "metadata": {},
   "source": [
    "## Valores faltantes"
   ]
  },
  {
   "cell_type": "code",
   "execution_count": 31,
   "id": "2186f2b7",
   "metadata": {},
   "outputs": [
    {
     "data": {
      "text/plain": [
       "Series_Title       0\n",
       "Released_Year      0\n",
       "Certificate      101\n",
       "Runtime            0\n",
       "Genre              0\n",
       "IMDB_Rating        0\n",
       "Overview           0\n",
       "Meta_score       157\n",
       "Director           0\n",
       "Star1              0\n",
       "Star2              0\n",
       "Star3              0\n",
       "Star4              0\n",
       "No_of_Votes        0\n",
       "Gross            169\n",
       "dtype: int64"
      ]
     },
     "execution_count": 31,
     "metadata": {},
     "output_type": "execute_result"
    }
   ],
   "source": [
    "df.isnull().sum()"
   ]
  },
  {
   "cell_type": "code",
   "execution_count": 33,
   "id": "8c27f0d1",
   "metadata": {},
   "outputs": [
    {
     "name": "stdout",
     "output_type": "stream",
     "text": [
      "             Valores faltantes  Porcentagem\n",
      "Certificate                101           10\n",
      "Meta_score                 157           16\n",
      "Gross                      169           17\n"
     ]
    }
   ],
   "source": [
    "missing_data = df.isnull().sum()\n",
    "missing_percent = (missing_data / len(df)) * 100\n",
    "missing_df = pd.DataFrame({\n",
    "            'Valores faltantes': missing_data,\n",
    "            'Porcentagem': missing_percent})\n",
    "print(missing_df[missing_df['Valores faltantes'] > 0])"
   ]
  },
  {
   "cell_type": "markdown",
   "id": "28af031f",
   "metadata": {},
   "source": [
    "A porcentagem de valores faltantes em meta_score e certificate é bem baixa. Quanto a gross, não posso presumir ou supor o faturamento de cada filme com essa informação faltante."
   ]
  },
  {
   "cell_type": "markdown",
   "id": "f63083d3",
   "metadata": {},
   "source": [
    "## Analisando a distribuição dos dados"
   ]
  },
  {
   "cell_type": "code",
   "execution_count": 42,
   "id": "141777cb",
   "metadata": {},
   "outputs": [
    {
     "data": {
      "image/png": "[encoded data removed]",
      "text/plain": [
       "<Figure size 1800x1200 with 6 Axes>"
      ]
     },
     "metadata": {},
     "output_type": "display_data"
    }
   ],
   "source": [
    "fig, axes = plt.subplots(2, 3, figsize=(18, 12))\n",
    "fig.suptitle('Distribuição', fontsize=16, fontweight='bold')\n",
    "        \n",
    "# IMDB Rating distribution\n",
    "axes[0, 0].hist(df['IMDB_Rating'].dropna(), bins=30, alpha=0.7, color='skyblue')\n",
    "axes[0, 0].set_title('Nota do IMDB')\n",
    "axes[0, 0].set_xlabel('Nota do IMDB')\n",
    "axes[0, 0].set_ylabel('Frequência')\n",
    "\n",
    "# Meta Score distribution\n",
    "axes[0, 1].hist(df['Meta_score'].dropna(), bins=30, alpha=0.7, color='lightgreen')\n",
    "axes[0, 1].set_title('Média ponderada de todas as críticas ')\n",
    "axes[0, 1].set_xlabel('Meta Score')\n",
    "axes[0, 1].set_ylabel('Frequência')\n",
    "\n",
    "# Runtime distribution\n",
    "axes[0, 2].hist(df['Runtime'].dropna(), bins=30, alpha=0.7, color='salmon')\n",
    "axes[0, 2].set_title('Tempo de duração')\n",
    "axes[0, 2].set_xlabel('Duração em minutos')\n",
    "axes[0, 2].set_ylabel('Frequência')\n",
    "        \n",
    "# Released Year distribution\n",
    "axes[1, 0].hist(df['Released_Year'].dropna(), bins=30, alpha=0.7, color='gold')\n",
    "axes[1, 0].set_title('Ano de lançamento')\n",
    "axes[1, 0].set_xlabel('Ano')\n",
    "axes[1, 0].set_ylabel('Frequência')\n",
    "        \n",
    "# Number of Votes distribution (log scale)\n",
    "axes[1, 1].hist(np.log10(df['No_of_Votes'].dropna()), bins=30, alpha=0.7, color='purple')\n",
    "axes[1, 1].set_title('Número de votos')\n",
    "axes[1, 1].set_xlabel('Número de votos na escala de Log10')\n",
    "axes[1, 1].set_ylabel('Frequência')\n",
    "        \n",
    "# Gross distribution (log scale)\n",
    "axes[1, 2].hist(np.log10(df['Gross'].dropna()), bins=30, alpha=0.7, color='orange')\n",
    "axes[1, 2].set_title('Faturamento')\n",
    "axes[1, 2].set_xlabel('Faturamento na escala de Log10')\n",
    "axes[1, 2].set_ylabel('Frequência')\n",
    "        \n",
    "plt.tight_layout()\n",
    "plt.show()"
   ]
  },
  {
   "cell_type": "markdown",
   "id": "ff6f5e58",
   "metadata": {},
   "source": [
    "## Correlações"
   ]
  },
  {
   "cell_type": "markdown",
   "id": "c4e5850f",
   "metadata": {},
   "source": [
    "Vou agora analisar a correlação entre as variáveis numéricas"
   ]
  },
  {
   "cell_type": "code",
   "execution_count": null,
   "id": "173debae",
   "metadata": {},
   "outputs": [
    {
     "name": "stdout",
     "output_type": "stream",
     "text": [
      "As variáveis numéricas são: \n",
      "\n",
      " Index(['Released_Year', 'Runtime', 'IMDB_Rating', 'Meta_score', 'No_of_Votes',\n",
      "       'Gross'],\n",
      "      dtype='object')\n"
     ]
    }
   ],
   "source": [
    "numerical_columns = df.select_dtypes(include=['int64', 'float64']).columns\n",
    "print(\"As variáveis numéricas são: \\n\\n\", numerical_columns)"
   ]
  },
  {
   "cell_type": "code",
   "execution_count": null,
   "id": "31c53c07",
   "metadata": {},
   "outputs": [
    {
     "data": {
      "text/plain": [
       "<Axes: >"
      ]
     },
     "execution_count": 14,
     "metadata": {},
     "output_type": "execute_result"
    },
    {
     "data": {
      "image/png": "[encoded data removed]",
      "text/plain": [
       "<Figure size 640x480 with 2 Axes>"
      ]
     },
     "metadata": {},
     "output_type": "display_data"
    }
   ],
   "source": [
    "corr = df.select_dtypes(include=['int64', 'float64']).corr(method='spearman', min_periods=1)\n",
    "sns.heatmap(corr, annot=True, cmap='viridis', fmt='.2f')"
   ]
  },
  {
   "cell_type": "code",
   "execution_count": null,
   "id": "f1cbcaa9",
   "metadata": {},
   "outputs": [],
   "source": []
  }
 ],
 "metadata": {
  "kernelspec": {
   "display_name": "indicium",
   "language": "python",
   "name": "python3"
  },
  "language_info": {
   "codemirror_mode": {
    "name": "ipython",
    "version": 3
   },
   "file_extension": ".py",
   "mimetype": "text/x-python",
   "name": "python",
   "nbconvert_exporter": "python",
   "pygments_lexer": "ipython3",
   "version": "3.11.0"
  }
 },
 "nbformat": 4,
 "nbformat_minor": 5
}
